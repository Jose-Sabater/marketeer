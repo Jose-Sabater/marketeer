{
 "cells": [
  {
   "cell_type": "code",
   "execution_count": 45,
   "metadata": {},
   "outputs": [],
   "source": [
    "import pandas as pd\n",
    "import yfinance as yf\n",
    "import datetime\n",
    "from datetime import date, timedelta\n",
    "import plotly.graph_objects as go\n",
    "import plotly.express as px\n",
    "from matplotlib import pyplot as plt\n",
    "import pandas_datareader as web\n",
    "import talib as ta\n"
   ]
  },
  {
   "cell_type": "code",
   "execution_count": 46,
   "metadata": {},
   "outputs": [
    {
     "name": "stdout",
     "output_type": "stream",
     "text": [
      "<bound method NDFrame.head of           Date        Open        High         Low       Close   Adj Close  \\\n",
      "0   2021-11-02  144.809402  146.920502  144.641006  145.863007  145.863007   \n",
      "1   2021-11-03  146.274994  146.910507  145.053497  146.789993  146.789993   \n",
      "2   2021-11-04  147.199997  149.949997  146.634995  148.682999  148.682999   \n",
      "3   2021-11-05  149.353500  150.570755  148.651993  149.240997  149.240997   \n",
      "4   2021-11-08  150.000000  151.034500  149.119995  149.351501  149.351501   \n",
      "..         ...         ...         ...         ...         ...         ...   \n",
      "247 2022-10-26   96.760002   98.540001   94.570000   94.820000   94.820000   \n",
      "248 2022-10-27   94.309998   95.169998   91.900002   92.599998   92.599998   \n",
      "249 2022-10-28   92.529999   96.860001   92.322998   96.580002   96.580002   \n",
      "250 2022-10-31   95.779999   96.349998   94.379997   94.660004   94.660004   \n",
      "251 2022-11-01   95.589996   96.165001   90.430000   90.500000   90.500000   \n",
      "\n",
      "       Volume  \n",
      "0    21150000  \n",
      "1    17886000  \n",
      "2    24700000  \n",
      "3    20408000  \n",
      "4    18388000  \n",
      "..        ...  \n",
      "247  71504300  \n",
      "248  54036500  \n",
      "249  35696900  \n",
      "250  29868700  \n",
      "251  43158300  \n",
      "\n",
      "[252 rows x 7 columns]>\n"
     ]
    }
   ],
   "source": [
    "today = date.today()\n",
    "\n",
    "d1 = today.strftime(\"%Y-%m-%d\")\n",
    "end_date = d1\n",
    "d2 = date.today() - timedelta(days=365)\n",
    "d2 = d2.strftime(\"%Y-%m-%d\")\n",
    "start_date = d2\n",
    "\n",
    "data = yf.download('GOOG', \n",
    "                      start=start_date,\n",
    "                      end = end_date,\n",
    "                      progress = False)\n",
    "\n",
    "data[\"Date\"] = data.index\n",
    "data = data[[\"Date\", \"Open\", \"High\", \"Low\",\"Close\", \"Adj Close\", \"Volume\"]]\n",
    "data.reset_index(drop=True, inplace = True)\n",
    "print(data.head)"
   ]
  },
  {
   "cell_type": "code",
   "execution_count": 47,
   "metadata": {},
   "outputs": [],
   "source": [
    "data2 = web.data.DataReader(\"AAPL\", \"yahoo\",start=\"2020-09-10\", end=end_date)"
   ]
  },
  {
   "cell_type": "code",
   "execution_count": 48,
   "metadata": {},
   "outputs": [
    {
     "data": {
      "text/html": [
       "<div>\n",
       "<style scoped>\n",
       "    .dataframe tbody tr th:only-of-type {\n",
       "        vertical-align: middle;\n",
       "    }\n",
       "\n",
       "    .dataframe tbody tr th {\n",
       "        vertical-align: top;\n",
       "    }\n",
       "\n",
       "    .dataframe thead th {\n",
       "        text-align: right;\n",
       "    }\n",
       "</style>\n",
       "<table border=\"1\" class=\"dataframe\">\n",
       "  <thead>\n",
       "    <tr style=\"text-align: right;\">\n",
       "      <th></th>\n",
       "      <th>High</th>\n",
       "      <th>Low</th>\n",
       "      <th>Open</th>\n",
       "      <th>Close</th>\n",
       "      <th>Volume</th>\n",
       "      <th>Adj Close</th>\n",
       "    </tr>\n",
       "    <tr>\n",
       "      <th>Date</th>\n",
       "      <th></th>\n",
       "      <th></th>\n",
       "      <th></th>\n",
       "      <th></th>\n",
       "      <th></th>\n",
       "      <th></th>\n",
       "    </tr>\n",
       "  </thead>\n",
       "  <tbody>\n",
       "    <tr>\n",
       "      <th>2020-09-10</th>\n",
       "      <td>120.500000</td>\n",
       "      <td>112.500000</td>\n",
       "      <td>120.360001</td>\n",
       "      <td>113.489998</td>\n",
       "      <td>182274400.0</td>\n",
       "      <td>112.136337</td>\n",
       "    </tr>\n",
       "    <tr>\n",
       "      <th>2020-09-11</th>\n",
       "      <td>115.230003</td>\n",
       "      <td>110.000000</td>\n",
       "      <td>114.570000</td>\n",
       "      <td>112.000000</td>\n",
       "      <td>180860300.0</td>\n",
       "      <td>110.664108</td>\n",
       "    </tr>\n",
       "    <tr>\n",
       "      <th>2020-09-14</th>\n",
       "      <td>115.930000</td>\n",
       "      <td>112.800003</td>\n",
       "      <td>114.720001</td>\n",
       "      <td>115.360001</td>\n",
       "      <td>140150100.0</td>\n",
       "      <td>113.984055</td>\n",
       "    </tr>\n",
       "    <tr>\n",
       "      <th>2020-09-15</th>\n",
       "      <td>118.830002</td>\n",
       "      <td>113.610001</td>\n",
       "      <td>118.330002</td>\n",
       "      <td>115.540001</td>\n",
       "      <td>184642000.0</td>\n",
       "      <td>114.161903</td>\n",
       "    </tr>\n",
       "    <tr>\n",
       "      <th>2020-09-16</th>\n",
       "      <td>116.000000</td>\n",
       "      <td>112.040001</td>\n",
       "      <td>115.230003</td>\n",
       "      <td>112.129997</td>\n",
       "      <td>154679000.0</td>\n",
       "      <td>110.792580</td>\n",
       "    </tr>\n",
       "    <tr>\n",
       "      <th>...</th>\n",
       "      <td>...</td>\n",
       "      <td>...</td>\n",
       "      <td>...</td>\n",
       "      <td>...</td>\n",
       "      <td>...</td>\n",
       "      <td>...</td>\n",
       "    </tr>\n",
       "    <tr>\n",
       "      <th>2022-10-26</th>\n",
       "      <td>151.990005</td>\n",
       "      <td>148.039993</td>\n",
       "      <td>150.960007</td>\n",
       "      <td>149.350006</td>\n",
       "      <td>88194300.0</td>\n",
       "      <td>149.350006</td>\n",
       "    </tr>\n",
       "    <tr>\n",
       "      <th>2022-10-27</th>\n",
       "      <td>149.050003</td>\n",
       "      <td>144.130005</td>\n",
       "      <td>148.070007</td>\n",
       "      <td>144.800003</td>\n",
       "      <td>109180200.0</td>\n",
       "      <td>144.800003</td>\n",
       "    </tr>\n",
       "    <tr>\n",
       "      <th>2022-10-28</th>\n",
       "      <td>157.500000</td>\n",
       "      <td>147.820007</td>\n",
       "      <td>148.199997</td>\n",
       "      <td>155.740005</td>\n",
       "      <td>164762400.0</td>\n",
       "      <td>155.740005</td>\n",
       "    </tr>\n",
       "    <tr>\n",
       "      <th>2022-10-31</th>\n",
       "      <td>154.240005</td>\n",
       "      <td>151.919998</td>\n",
       "      <td>153.160004</td>\n",
       "      <td>153.339996</td>\n",
       "      <td>97943200.0</td>\n",
       "      <td>153.339996</td>\n",
       "    </tr>\n",
       "    <tr>\n",
       "      <th>2022-11-01</th>\n",
       "      <td>155.449997</td>\n",
       "      <td>149.130005</td>\n",
       "      <td>155.080002</td>\n",
       "      <td>150.649994</td>\n",
       "      <td>80321400.0</td>\n",
       "      <td>150.649994</td>\n",
       "    </tr>\n",
       "  </tbody>\n",
       "</table>\n",
       "<p>541 rows × 6 columns</p>\n",
       "</div>"
      ],
      "text/plain": [
       "                  High         Low        Open       Close       Volume  \\\n",
       "Date                                                                      \n",
       "2020-09-10  120.500000  112.500000  120.360001  113.489998  182274400.0   \n",
       "2020-09-11  115.230003  110.000000  114.570000  112.000000  180860300.0   \n",
       "2020-09-14  115.930000  112.800003  114.720001  115.360001  140150100.0   \n",
       "2020-09-15  118.830002  113.610001  118.330002  115.540001  184642000.0   \n",
       "2020-09-16  116.000000  112.040001  115.230003  112.129997  154679000.0   \n",
       "...                ...         ...         ...         ...          ...   \n",
       "2022-10-26  151.990005  148.039993  150.960007  149.350006   88194300.0   \n",
       "2022-10-27  149.050003  144.130005  148.070007  144.800003  109180200.0   \n",
       "2022-10-28  157.500000  147.820007  148.199997  155.740005  164762400.0   \n",
       "2022-10-31  154.240005  151.919998  153.160004  153.339996   97943200.0   \n",
       "2022-11-01  155.449997  149.130005  155.080002  150.649994   80321400.0   \n",
       "\n",
       "             Adj Close  \n",
       "Date                    \n",
       "2020-09-10  112.136337  \n",
       "2020-09-11  110.664108  \n",
       "2020-09-14  113.984055  \n",
       "2020-09-15  114.161903  \n",
       "2020-09-16  110.792580  \n",
       "...                ...  \n",
       "2022-10-26  149.350006  \n",
       "2022-10-27  144.800003  \n",
       "2022-10-28  155.740005  \n",
       "2022-10-31  153.339996  \n",
       "2022-11-01  150.649994  \n",
       "\n",
       "[541 rows x 6 columns]"
      ]
     },
     "execution_count": 48,
     "metadata": {},
     "output_type": "execute_result"
    }
   ],
   "source": [
    "data2"
   ]
  },
  {
   "cell_type": "code",
   "execution_count": 49,
   "metadata": {},
   "outputs": [],
   "source": [
    "actions = web.DataReader('GOOG', 'yahoo-actions', start_date, end_date)"
   ]
  },
  {
   "cell_type": "code",
   "execution_count": 50,
   "metadata": {},
   "outputs": [],
   "source": [
    "dividends = web.DataReader('IBM', 'yahoo-dividends', start_date, end_date)"
   ]
  },
  {
   "cell_type": "code",
   "execution_count": 51,
   "metadata": {},
   "outputs": [
    {
     "data": {
      "image/png": "[encoded data removed]",
      "text/plain": [
       "<Figure size 4000x800 with 1 Axes>"
      ]
     },
     "metadata": {},
     "output_type": "display_data"
    }
   ],
   "source": [
    "plt.style.use('fivethirtyeight')\n",
    "data2['MA'] = ta.SMA(data2['Close'],timeperiod=5)\n",
    "data2[['Close','MA']].plot(figsize=(40,8))\n",
    "plt.show()"
   ]
  },
  {
   "cell_type": "code",
   "execution_count": 52,
   "metadata": {},
   "outputs": [
    {
     "data": {
      "text/html": [
       "<div>\n",
       "<style scoped>\n",
       "    .dataframe tbody tr th:only-of-type {\n",
       "        vertical-align: middle;\n",
       "    }\n",
       "\n",
       "    .dataframe tbody tr th {\n",
       "        vertical-align: top;\n",
       "    }\n",
       "\n",
       "    .dataframe thead th {\n",
       "        text-align: right;\n",
       "    }\n",
       "</style>\n",
       "<table border=\"1\" class=\"dataframe\">\n",
       "  <thead>\n",
       "    <tr style=\"text-align: right;\">\n",
       "      <th></th>\n",
       "      <th>High</th>\n",
       "      <th>Low</th>\n",
       "      <th>Open</th>\n",
       "      <th>Close</th>\n",
       "      <th>Volume</th>\n",
       "      <th>Adj Close</th>\n",
       "      <th>MA</th>\n",
       "    </tr>\n",
       "    <tr>\n",
       "      <th>Date</th>\n",
       "      <th></th>\n",
       "      <th></th>\n",
       "      <th></th>\n",
       "      <th></th>\n",
       "      <th></th>\n",
       "      <th></th>\n",
       "      <th></th>\n",
       "    </tr>\n",
       "  </thead>\n",
       "  <tbody>\n",
       "    <tr>\n",
       "      <th>2020-09-10</th>\n",
       "      <td>120.500000</td>\n",
       "      <td>112.500000</td>\n",
       "      <td>120.360001</td>\n",
       "      <td>113.489998</td>\n",
       "      <td>182274400.0</td>\n",
       "      <td>112.136337</td>\n",
       "      <td>NaN</td>\n",
       "    </tr>\n",
       "    <tr>\n",
       "      <th>2020-09-11</th>\n",
       "      <td>115.230003</td>\n",
       "      <td>110.000000</td>\n",
       "      <td>114.570000</td>\n",
       "      <td>112.000000</td>\n",
       "      <td>180860300.0</td>\n",
       "      <td>110.664108</td>\n",
       "      <td>NaN</td>\n",
       "    </tr>\n",
       "    <tr>\n",
       "      <th>2020-09-14</th>\n",
       "      <td>115.930000</td>\n",
       "      <td>112.800003</td>\n",
       "      <td>114.720001</td>\n",
       "      <td>115.360001</td>\n",
       "      <td>140150100.0</td>\n",
       "      <td>113.984055</td>\n",
       "      <td>NaN</td>\n",
       "    </tr>\n",
       "    <tr>\n",
       "      <th>2020-09-15</th>\n",
       "      <td>118.830002</td>\n",
       "      <td>113.610001</td>\n",
       "      <td>118.330002</td>\n",
       "      <td>115.540001</td>\n",
       "      <td>184642000.0</td>\n",
       "      <td>114.161903</td>\n",
       "      <td>NaN</td>\n",
       "    </tr>\n",
       "    <tr>\n",
       "      <th>2020-09-16</th>\n",
       "      <td>116.000000</td>\n",
       "      <td>112.040001</td>\n",
       "      <td>115.230003</td>\n",
       "      <td>112.129997</td>\n",
       "      <td>154679000.0</td>\n",
       "      <td>110.792580</td>\n",
       "      <td>113.703999</td>\n",
       "    </tr>\n",
       "    <tr>\n",
       "      <th>...</th>\n",
       "      <td>...</td>\n",
       "      <td>...</td>\n",
       "      <td>...</td>\n",
       "      <td>...</td>\n",
       "      <td>...</td>\n",
       "      <td>...</td>\n",
       "      <td>...</td>\n",
       "    </tr>\n",
       "    <tr>\n",
       "      <th>2022-10-26</th>\n",
       "      <td>151.990005</td>\n",
       "      <td>148.039993</td>\n",
       "      <td>150.960007</td>\n",
       "      <td>149.350006</td>\n",
       "      <td>88194300.0</td>\n",
       "      <td>149.350006</td>\n",
       "      <td>148.360001</td>\n",
       "    </tr>\n",
       "    <tr>\n",
       "      <th>2022-10-27</th>\n",
       "      <td>149.050003</td>\n",
       "      <td>144.130005</td>\n",
       "      <td>148.070007</td>\n",
       "      <td>144.800003</td>\n",
       "      <td>109180200.0</td>\n",
       "      <td>144.800003</td>\n",
       "      <td>148.642001</td>\n",
       "    </tr>\n",
       "    <tr>\n",
       "      <th>2022-10-28</th>\n",
       "      <td>157.500000</td>\n",
       "      <td>147.820007</td>\n",
       "      <td>148.199997</td>\n",
       "      <td>155.740005</td>\n",
       "      <td>164762400.0</td>\n",
       "      <td>155.740005</td>\n",
       "      <td>150.336002</td>\n",
       "    </tr>\n",
       "    <tr>\n",
       "      <th>2022-10-31</th>\n",
       "      <td>154.240005</td>\n",
       "      <td>151.919998</td>\n",
       "      <td>153.160004</td>\n",
       "      <td>153.339996</td>\n",
       "      <td>97943200.0</td>\n",
       "      <td>153.339996</td>\n",
       "      <td>151.114001</td>\n",
       "    </tr>\n",
       "    <tr>\n",
       "      <th>2022-11-01</th>\n",
       "      <td>155.449997</td>\n",
       "      <td>149.130005</td>\n",
       "      <td>155.080002</td>\n",
       "      <td>150.649994</td>\n",
       "      <td>80321400.0</td>\n",
       "      <td>150.649994</td>\n",
       "      <td>150.776001</td>\n",
       "    </tr>\n",
       "  </tbody>\n",
       "</table>\n",
       "<p>541 rows × 7 columns</p>\n",
       "</div>"
      ],
      "text/plain": [
       "                  High         Low        Open       Close       Volume  \\\n",
       "Date                                                                      \n",
       "2020-09-10  120.500000  112.500000  120.360001  113.489998  182274400.0   \n",
       "2020-09-11  115.230003  110.000000  114.570000  112.000000  180860300.0   \n",
       "2020-09-14  115.930000  112.800003  114.720001  115.360001  140150100.0   \n",
       "2020-09-15  118.830002  113.610001  118.330002  115.540001  184642000.0   \n",
       "2020-09-16  116.000000  112.040001  115.230003  112.129997  154679000.0   \n",
       "...                ...         ...         ...         ...          ...   \n",
       "2022-10-26  151.990005  148.039993  150.960007  149.350006   88194300.0   \n",
       "2022-10-27  149.050003  144.130005  148.070007  144.800003  109180200.0   \n",
       "2022-10-28  157.500000  147.820007  148.199997  155.740005  164762400.0   \n",
       "2022-10-31  154.240005  151.919998  153.160004  153.339996   97943200.0   \n",
       "2022-11-01  155.449997  149.130005  155.080002  150.649994   80321400.0   \n",
       "\n",
       "             Adj Close          MA  \n",
       "Date                                \n",
       "2020-09-10  112.136337         NaN  \n",
       "2020-09-11  110.664108         NaN  \n",
       "2020-09-14  113.984055         NaN  \n",
       "2020-09-15  114.161903         NaN  \n",
       "2020-09-16  110.792580  113.703999  \n",
       "...                ...         ...  \n",
       "2022-10-26  149.350006  148.360001  \n",
       "2022-10-27  144.800003  148.642001  \n",
       "2022-10-28  155.740005  150.336002  \n",
       "2022-10-31  153.339996  151.114001  \n",
       "2022-11-01  150.649994  150.776001  \n",
       "\n",
       "[541 rows x 7 columns]"
      ]
     },
     "execution_count": 52,
     "metadata": {},
     "output_type": "execute_result"
    }
   ],
   "source": [
    "data2"
   ]
  },
  {
   "cell_type": "code",
   "execution_count": 53,
   "metadata": {},
   "outputs": [
    {
     "data": {
      "text/html": [
       "<div>\n",
       "<style scoped>\n",
       "    .dataframe tbody tr th:only-of-type {\n",
       "        vertical-align: middle;\n",
       "    }\n",
       "\n",
       "    .dataframe tbody tr th {\n",
       "        vertical-align: top;\n",
       "    }\n",
       "\n",
       "    .dataframe thead th {\n",
       "        text-align: right;\n",
       "    }\n",
       "</style>\n",
       "<table border=\"1\" class=\"dataframe\">\n",
       "  <thead>\n",
       "    <tr style=\"text-align: right;\">\n",
       "      <th></th>\n",
       "      <th>High</th>\n",
       "      <th>Low</th>\n",
       "      <th>Open</th>\n",
       "      <th>Close</th>\n",
       "      <th>Volume</th>\n",
       "      <th>Adj Close</th>\n",
       "      <th>MA</th>\n",
       "      <th>RSI</th>\n",
       "    </tr>\n",
       "    <tr>\n",
       "      <th>Date</th>\n",
       "      <th></th>\n",
       "      <th></th>\n",
       "      <th></th>\n",
       "      <th></th>\n",
       "      <th></th>\n",
       "      <th></th>\n",
       "      <th></th>\n",
       "      <th></th>\n",
       "    </tr>\n",
       "  </thead>\n",
       "  <tbody>\n",
       "    <tr>\n",
       "      <th>2020-09-10</th>\n",
       "      <td>120.500000</td>\n",
       "      <td>112.500000</td>\n",
       "      <td>120.360001</td>\n",
       "      <td>113.489998</td>\n",
       "      <td>182274400.0</td>\n",
       "      <td>112.136337</td>\n",
       "      <td>NaN</td>\n",
       "      <td>NaN</td>\n",
       "    </tr>\n",
       "    <tr>\n",
       "      <th>2020-09-11</th>\n",
       "      <td>115.230003</td>\n",
       "      <td>110.000000</td>\n",
       "      <td>114.570000</td>\n",
       "      <td>112.000000</td>\n",
       "      <td>180860300.0</td>\n",
       "      <td>110.664108</td>\n",
       "      <td>NaN</td>\n",
       "      <td>NaN</td>\n",
       "    </tr>\n",
       "    <tr>\n",
       "      <th>2020-09-14</th>\n",
       "      <td>115.930000</td>\n",
       "      <td>112.800003</td>\n",
       "      <td>114.720001</td>\n",
       "      <td>115.360001</td>\n",
       "      <td>140150100.0</td>\n",
       "      <td>113.984055</td>\n",
       "      <td>NaN</td>\n",
       "      <td>NaN</td>\n",
       "    </tr>\n",
       "    <tr>\n",
       "      <th>2020-09-15</th>\n",
       "      <td>118.830002</td>\n",
       "      <td>113.610001</td>\n",
       "      <td>118.330002</td>\n",
       "      <td>115.540001</td>\n",
       "      <td>184642000.0</td>\n",
       "      <td>114.161903</td>\n",
       "      <td>NaN</td>\n",
       "      <td>NaN</td>\n",
       "    </tr>\n",
       "    <tr>\n",
       "      <th>2020-09-16</th>\n",
       "      <td>116.000000</td>\n",
       "      <td>112.040001</td>\n",
       "      <td>115.230003</td>\n",
       "      <td>112.129997</td>\n",
       "      <td>154679000.0</td>\n",
       "      <td>110.792580</td>\n",
       "      <td>113.703999</td>\n",
       "      <td>NaN</td>\n",
       "    </tr>\n",
       "    <tr>\n",
       "      <th>...</th>\n",
       "      <td>...</td>\n",
       "      <td>...</td>\n",
       "      <td>...</td>\n",
       "      <td>...</td>\n",
       "      <td>...</td>\n",
       "      <td>...</td>\n",
       "      <td>...</td>\n",
       "      <td>...</td>\n",
       "    </tr>\n",
       "    <tr>\n",
       "      <th>2022-10-26</th>\n",
       "      <td>151.990005</td>\n",
       "      <td>148.039993</td>\n",
       "      <td>150.960007</td>\n",
       "      <td>149.350006</td>\n",
       "      <td>88194300.0</td>\n",
       "      <td>149.350006</td>\n",
       "      <td>148.360001</td>\n",
       "      <td>53.288518</td>\n",
       "    </tr>\n",
       "    <tr>\n",
       "      <th>2022-10-27</th>\n",
       "      <td>149.050003</td>\n",
       "      <td>144.130005</td>\n",
       "      <td>148.070007</td>\n",
       "      <td>144.800003</td>\n",
       "      <td>109180200.0</td>\n",
       "      <td>144.800003</td>\n",
       "      <td>148.642001</td>\n",
       "      <td>46.811996</td>\n",
       "    </tr>\n",
       "    <tr>\n",
       "      <th>2022-10-28</th>\n",
       "      <td>157.500000</td>\n",
       "      <td>147.820007</td>\n",
       "      <td>148.199997</td>\n",
       "      <td>155.740005</td>\n",
       "      <td>164762400.0</td>\n",
       "      <td>155.740005</td>\n",
       "      <td>150.336002</td>\n",
       "      <td>59.543661</td>\n",
       "    </tr>\n",
       "    <tr>\n",
       "      <th>2022-10-31</th>\n",
       "      <td>154.240005</td>\n",
       "      <td>151.919998</td>\n",
       "      <td>153.160004</td>\n",
       "      <td>153.339996</td>\n",
       "      <td>97943200.0</td>\n",
       "      <td>153.339996</td>\n",
       "      <td>151.114001</td>\n",
       "      <td>56.356558</td>\n",
       "    </tr>\n",
       "    <tr>\n",
       "      <th>2022-11-01</th>\n",
       "      <td>155.449997</td>\n",
       "      <td>149.130005</td>\n",
       "      <td>155.080002</td>\n",
       "      <td>150.649994</td>\n",
       "      <td>80321400.0</td>\n",
       "      <td>150.649994</td>\n",
       "      <td>150.776001</td>\n",
       "      <td>52.936449</td>\n",
       "    </tr>\n",
       "  </tbody>\n",
       "</table>\n",
       "<p>541 rows × 8 columns</p>\n",
       "</div>"
      ],
      "text/plain": [
       "                  High         Low        Open       Close       Volume  \\\n",
       "Date                                                                      \n",
       "2020-09-10  120.500000  112.500000  120.360001  113.489998  182274400.0   \n",
       "2020-09-11  115.230003  110.000000  114.570000  112.000000  180860300.0   \n",
       "2020-09-14  115.930000  112.800003  114.720001  115.360001  140150100.0   \n",
       "2020-09-15  118.830002  113.610001  118.330002  115.540001  184642000.0   \n",
       "2020-09-16  116.000000  112.040001  115.230003  112.129997  154679000.0   \n",
       "...                ...         ...         ...         ...          ...   \n",
       "2022-10-26  151.990005  148.039993  150.960007  149.350006   88194300.0   \n",
       "2022-10-27  149.050003  144.130005  148.070007  144.800003  109180200.0   \n",
       "2022-10-28  157.500000  147.820007  148.199997  155.740005  164762400.0   \n",
       "2022-10-31  154.240005  151.919998  153.160004  153.339996   97943200.0   \n",
       "2022-11-01  155.449997  149.130005  155.080002  150.649994   80321400.0   \n",
       "\n",
       "             Adj Close          MA        RSI  \n",
       "Date                                           \n",
       "2020-09-10  112.136337         NaN        NaN  \n",
       "2020-09-11  110.664108         NaN        NaN  \n",
       "2020-09-14  113.984055         NaN        NaN  \n",
       "2020-09-15  114.161903         NaN        NaN  \n",
       "2020-09-16  110.792580  113.703999        NaN  \n",
       "...                ...         ...        ...  \n",
       "2022-10-26  149.350006  148.360001  53.288518  \n",
       "2022-10-27  144.800003  148.642001  46.811996  \n",
       "2022-10-28  155.740005  150.336002  59.543661  \n",
       "2022-10-31  153.339996  151.114001  56.356558  \n",
       "2022-11-01  150.649994  150.776001  52.936449  \n",
       "\n",
       "[541 rows x 8 columns]"
      ]
     },
     "execution_count": 53,
     "metadata": {},
     "output_type": "execute_result"
    }
   ],
   "source": [
    "data2[\"RSI\"] = ta.RSI(data2[\"Close\"])\n",
    "data2"
   ]
  },
  {
   "cell_type": "code",
   "execution_count": 85,
   "metadata": {},
   "outputs": [
    {
     "data": {
      "text/plain": [
       "<matplotlib.legend.Legend at 0x16fecda34f0>"
      ]
     },
     "execution_count": 85,
     "metadata": {},
     "output_type": "execute_result"
    },
    {
     "data": {
      "image/png": "[encoded data removed]",
      "text/plain": [
       "<Figure size 1500x900 with 2 Axes>"
      ]
     },
     "metadata": {},
     "output_type": "display_data"
    }
   ],
   "source": [
    "fig, axs =plt.subplots(2,1, gridspec_kw={\"height_ratios\": [3,1]}, figsize=(15,9))\n",
    "plt.style.use(\"default\")\n",
    "# axs[0].plot(data2[['Close',\"MA\"]], label=[\"Close\", \"MA\"])\n",
    "axs[0].plot(data2['Close'], label=\"Close\")\n",
    "axs[0].plot(data2[\"MA\"], label= \"MA\")\n",
    "axs[0].legend(loc=\"best\")\n",
    "axs[1].axhline(y=70, color=\"r\", linestyle=\"--\")\n",
    "axs[1].axhline(y=30, color=\"g\", linestyle=\"--\")\n",
    "axs[1].plot(data2[\"RSI\"], label=\"RSI\")\n",
    "axs[1].legend(loc=\"best\")\n"
   ]
  },
  {
   "cell_type": "code",
   "execution_count": 92,
   "metadata": {},
   "outputs": [],
   "source": [
    "data2[\"LinearReg\"] = ta.LINEARREG(data2[\"Close\"], 100)"
   ]
  },
  {
   "cell_type": "code",
   "execution_count": 94,
   "metadata": {},
   "outputs": [
    {
     "data": {
      "text/plain": [
       "[<matplotlib.lines.Line2D at 0x16fecf69fc0>]"
      ]
     },
     "execution_count": 94,
     "metadata": {},
     "output_type": "execute_result"
    },
    {
     "data": {
      "image/png": "[encoded data removed]",
      "text/plain": [
       "<Figure size 640x480 with 1 Axes>"
      ]
     },
     "metadata": {},
     "output_type": "display_data"
    }
   ],
   "source": [
    "plt.plot(data2[\"LinearReg\"])\n",
    "plt.plot(data2[\"Close\"])\n"
   ]
  },
  {
   "cell_type": "code",
   "execution_count": 55,
   "metadata": {},
   "outputs": [
    {
     "data": {
      "application/vnd.plotly.v1+json": {
       "config": {
        "plotlyServerURL": "https://plot.ly"
       },
       "data": [
        {
         "hovertemplate": "Date=%{x}<br>Close=%{y}<extra></extra>",
         "legendgroup": "",
         "line": {
          "color": "#636efa",
          "dash": "solid"
         },
         "marker": {
          "symbol": "circle"
         },
         "mode": "lines",
         "name": "",
         "orientation": "v",
         "showlegend": false,
         "type": "scatter",
         "x": [
          "2021-11-02T00:00:00",
          "2021-11-03T00:00:00",
          "2021-11-04T00:00:00",
          "2021-11-05T00:00:00",
          "2021-11-08T00:00:00",
          "2021-11-09T00:00:00",
          "2021-11-10T00:00:00",
          "2021-11-11T00:00:00",
          "2021-11-12T00:00:00",
          "2021-11-15T00:00:00",
          "2021-11-16T00:00:00",
          "2021-11-17T00:00:00",
          "2021-11-18T00:00:00",
          "2021-11-19T00:00:00",
          "2021-11-22T00:00:00",
          "2021-11-23T00:00:00",
          "2021-11-24T00:00:00",
          "2021-11-26T00:00:00",
          "2021-11-29T00:00:00",
          "2021-11-30T00:00:00",
          "2021-12-01T00:00:00",
          "2021-12-02T00:00:00",
          "2021-12-03T00:00:00",
          "2021-12-06T00:00:00",
          "2021-12-07T00:00:00",
          "2021-12-08T00:00:00",
          "2021-12-09T00:00:00",
          "2021-12-10T00:00:00",
          "2021-12-13T00:00:00",
          "2021-12-14T00:00:00",
          "2021-12-15T00:00:00",
          "2021-12-16T00:00:00",
          "2021-12-17T00:00:00",
          "2021-12-20T00:00:00",
          "2021-12-21T00:00:00",
          "2021-12-22T00:00:00",
          "2021-12-23T00:00:00",
          "2021-12-27T00:00:00",
          "2021-12-28T00:00:00",
          "2021-12-29T00:00:00",
          "2021-12-30T00:00:00",
          "2021-12-31T00:00:00",
          "2022-01-03T00:00:00",
          "2022-01-04T00:00:00",
          "2022-01-05T00:00:00",
          "2022-01-06T00:00:00",
          "2022-01-07T00:00:00",
          "2022-01-10T00:00:00",
          "2022-01-11T00:00:00",
          "2022-01-12T00:00:00",
          "2022-01-13T00:00:00",
          "2022-01-14T00:00:00",
          "2022-01-18T00:00:00",
          "2022-01-19T00:00:00",
          "2022-01-20T00:00:00",
          "2022-01-21T00:00:00",
          "2022-01-24T00:00:00",
          "2022-01-25T00:00:00",
          "2022-01-26T00:00:00",
          "2022-01-27T00:00:00",
          "2022-01-28T00:00:00",
          "2022-01-31T00:00:00",
          "2022-02-01T00:00:00",
          "2022-02-02T00:00:00",
          "2022-02-03T00:00:00",
          "2022-02-04T00:00:00",
          "2022-02-07T00:00:00",
          "2022-02-08T00:00:00",
          "2022-02-09T00:00:00",
          "2022-02-10T00:00:00",
          "2022-02-11T00:00:00",
          "2022-02-14T00:00:00",
          "2022-02-15T00:00:00",
          "2022-02-16T00:00:00",
          "2022-02-17T00:00:00",
          "2022-02-18T00:00:00",
          "2022-02-22T00:00:00",
          "2022-02-23T00:00:00",
          "2022-02-24T00:00:00",
          "2022-02-25T00:00:00",
          "2022-02-28T00:00:00",
          "2022-03-01T00:00:00",
          "2022-03-02T00:00:00",
          "2022-03-03T00:00:00",
          "2022-03-04T00:00:00",
          "2022-03-07T00:00:00",
          "2022-03-08T00:00:00",
          "2022-03-09T00:00:00",
          "2022-03-10T00:00:00",
          "2022-03-11T00:00:00",
          "2022-03-14T00:00:00",
          "2022-03-15T00:00:00",
          "2022-03-16T00:00:00",
          "2022-03-17T00:00:00",
          "2022-03-18T00:00:00",
          "2022-03-21T00:00:00",
          "2022-03-22T00:00:00",
          "2022-03-23T00:00:00",
          "2022-03-24T00:00:00",
          "2022-03-25T00:00:00",
          "2022-03-28T00:00:00",
          "2022-03-29T00:00:00",
          "2022-03-30T00:00:00",
          "2022-03-31T00:00:00",
          "2022-04-01T00:00:00",
          "2022-04-04T00:00:00",
          "2022-04-05T00:00:00",
          "2022-04-06T00:00:00",
          "2022-04-07T00:00:00",
          "2022-04-08T00:00:00",
          "2022-04-11T00:00:00",
          "2022-04-12T00:00:00",
          "2022-04-13T00:00:00",
          "2022-04-14T00:00:00",
          "2022-04-18T00:00:00",
          "2022-04-19T00:00:00",
          "2022-04-20T00:00:00",
          "2022-04-21T00:00:00",
          "2022-04-22T00:00:00",
          "2022-04-25T00:00:00",
          "2022-04-26T00:00:00",
          "2022-04-27T00:00:00",
          "2022-04-28T00:00:00",
          "2022-04-29T00:00:00",
          "2022-05-02T00:00:00",
          "2022-05-03T00:00:00",
          "2022-05-04T00:00:00",
          "2022-05-05T00:00:00",
          "2022-05-06T00:00:00",
          "2022-05-09T00:00:00",
          "2022-05-10T00:00:00",
          "2022-05-11T00:00:00",
          "2022-05-12T00:00:00",
          "2022-05-13T00:00:00",
          "2022-05-16T00:00:00",
          "2022-05-17T00:00:00",
          "2022-05-18T00:00:00",
          "2022-05-19T00:00:00",
          "2022-05-20T00:00:00",
          "2022-05-23T00:00:00",
          "2022-05-24T00:00:00",
          "2022-05-25T00:00:00",
          "2022-05-26T00:00:00",
          "2022-05-27T00:00:00",
          "2022-05-31T00:00:00",
          "2022-06-01T00:00:00",
          "2022-06-02T00:00:00",
          "2022-06-03T00:00:00",
          "2022-06-06T00:00:00",
          "2022-06-07T00:00:00",
          "2022-06-08T00:00:00",
          "2022-06-09T00:00:00",
          "2022-06-10T00:00:00",
          "2022-06-13T00:00:00",
          "2022-06-14T00:00:00",
          "2022-06-15T00:00:00",
          "2022-06-16T00:00:00",
          "2022-06-17T00:00:00",
          "2022-06-21T00:00:00",
          "2022-06-22T00:00:00",
          "2022-06-23T00:00:00",
          "2022-06-24T00:00:00",
          "2022-06-27T00:00:00",
          "2022-06-28T00:00:00",
          "2022-06-29T00:00:00",
          "2022-06-30T00:00:00",
          "2022-07-01T00:00:00",
          "2022-07-05T00:00:00",
          "2022-07-06T00:00:00",
          "2022-07-07T00:00:00",
          "2022-07-08T00:00:00",
          "2022-07-11T00:00:00",
          "2022-07-12T00:00:00",
          "2022-07-13T00:00:00",
          "2022-07-14T00:00:00",
          "2022-07-15T00:00:00",
          "2022-07-18T00:00:00",
          "2022-07-19T00:00:00",
          "2022-07-20T00:00:00",
          "2022-07-21T00:00:00",
          "2022-07-22T00:00:00",
          "2022-07-25T00:00:00",
          "2022-07-26T00:00:00",
          "2022-07-27T00:00:00",
          "2022-07-28T00:00:00",
          "2022-07-29T00:00:00",
          "2022-08-01T00:00:00",
          "2022-08-02T00:00:00",
          "2022-08-03T00:00:00",
          "2022-08-04T00:00:00",
          "2022-08-05T00:00:00",
          "2022-08-08T00:00:00",
          "2022-08-09T00:00:00",
          "2022-08-10T00:00:00",
          "2022-08-11T00:00:00",
          "2022-08-12T00:00:00",
          "2022-08-15T00:00:00",
          "2022-08-16T00:00:00",
          "2022-08-17T00:00:00",
          "2022-08-18T00:00:00",
          "2022-08-19T00:00:00",
          "2022-08-22T00:00:00",
          "2022-08-23T00:00:00",
          "2022-08-24T00:00:00",
          "2022-08-25T00:00:00",
          "2022-08-26T00:00:00",
          "2022-08-29T00:00:00",
          "2022-08-30T00:00:00",
          "2022-08-31T00:00:00",
          "2022-09-01T00:00:00",
          "2022-09-02T00:00:00",
          "2022-09-06T00:00:00",
          "2022-09-07T00:00:00",
          "2022-09-08T00:00:00",
          "2022-09-09T00:00:00",
          "2022-09-12T00:00:00",
          "2022-09-13T00:00:00",
          "2022-09-14T00:00:00",
          "2022-09-15T00:00:00",
          "2022-09-16T00:00:00",
          "2022-09-19T00:00:00",
          "2022-09-20T00:00:00",
          "2022-09-21T00:00:00",
          "2022-09-22T00:00:00",
          "2022-09-23T00:00:00",
          "2022-09-26T00:00:00",
          "2022-09-27T00:00:00",
          "2022-09-28T00:00:00",
          "2022-09-29T00:00:00",
          "2022-09-30T00:00:00",
          "2022-10-03T00:00:00",
          "2022-10-04T00:00:00",
          "2022-10-05T00:00:00",
          "2022-10-06T00:00:00",
          "2022-10-07T00:00:00",
          "2022-10-10T00:00:00",
          "2022-10-11T00:00:00",
          "2022-10-12T00:00:00",
          "2022-10-13T00:00:00",
          "2022-10-14T00:00:00",
          "2022-10-17T00:00:00",
          "2022-10-18T00:00:00",
          "2022-10-19T00:00:00",
          "2022-10-20T00:00:00",
          "2022-10-21T00:00:00",
          "2022-10-24T00:00:00",
          "2022-10-25T00:00:00",
          "2022-10-26T00:00:00",
          "2022-10-27T00:00:00",
          "2022-10-28T00:00:00",
          "2022-10-31T00:00:00",
          "2022-11-01T00:00:00"
         ],
         "xaxis": "x",
         "y": [
          145.86300659179688,
          146.7899932861328,
          148.68299865722656,
          149.24099731445312,
          149.35150146484375,
          149.24850463867188,
          146.62600708007812,
          146.7480010986328,
          149.64549255371094,
          149.38800048828125,
          149.0760040283203,
          149.06199645996094,
          150.70899963378906,
          149.95249938964844,
          147.07850646972656,
          146.7570037841797,
          146.71749877929688,
          142.80599975585938,
          146.11399841308594,
          142.45199584960938,
          141.6179962158203,
          143.77650451660156,
          142.52049255371094,
          143.79649353027344,
          148.0364990234375,
          148.7205047607422,
          148.1060028076172,
          148.6750030517578,
          146.70449829101562,
          144.9705047607422,
          147.36849975585938,
          144.8385009765625,
          142.80299377441406,
          142.40150451660156,
          144.2205047607422,
          146.94900512695312,
          147.1425018310547,
          148.06399536132812,
          146.447998046875,
          146.50450134277344,
          146.00250244140625,
          144.67950439453125,
          145.07449340820312,
          144.41650390625,
          137.65350341796875,
          137.55099487304688,
          137.00450134277344,
          138.57400512695312,
          140.0175018310547,
          141.6479949951172,
          139.13099670410156,
          139.7864990234375,
          136.29049682617188,
          135.65199279785156,
          133.50650024414062,
          130.0919952392578,
          130.3719940185547,
          126.7354965209961,
          129.24000549316406,
          129.12100219726562,
          133.2895050048828,
          135.69850158691406,
          137.8784942626953,
          148.0364990234375,
          142.65049743652344,
          143.01600646972656,
          138.93800354003906,
          139.21299743652344,
          141.4530029296875,
          138.6024932861328,
          134.1300048828125,
          135.3000030517578,
          136.42550659179688,
          137.4875030517578,
          132.30850219726562,
          130.46749877929688,
          129.40249633789062,
          127.58499908447266,
          132.67349243164062,
          134.51950073242188,
          134.89100646972656,
          134.16799926757812,
          134.75149536132812,
          134.30799865722656,
          132.1219940185547,
          126.4645004272461,
          127.27850341796875,
          133.86599731445312,
          132.6820068359375,
          130.47549438476562,
          126.74099731445312,
          129.66050720214844,
          133.6905059814453,
          134.60049438476562,
          136.80149841308594,
          136.47850036621094,
          140.27749633789062,
          138.5034942626953,
          141.31199645996094,
          141.52149963378906,
          141.9499969482422,
          143.25,
          142.64450073242188,
          139.64950561523438,
          140.6999969482422,
          143.6425018310547,
          141.06300354003906,
          137.17599487304688,
          136.46499633789062,
          134.010498046875,
          129.79649353027344,
          128.37449645996094,
          130.28599548339844,
          127.25299835205078,
          127.96099853515625,
          130.531005859375,
          128.24549865722656,
          124.9375,
          119.61399841308594,
          123.25,
          119.50599670410156,
          115.02050018310547,
          119.4114990234375,
          114.96649932861328,
          117.15699768066406,
          118.12950134277344,
          122.57499694824219,
          116.74649810791016,
          115.66000366210938,
          113.08399963378906,
          114.58450317382812,
          113.96099853515625,
          113.16100311279297,
          116.5155029296875,
          114.7925033569336,
          116.70149993896484,
          112.4010009765625,
          110.74549865722656,
          109.31300354003906,
          111.66649627685547,
          105.9260025024414,
          105.8395004272461,
          108.2959976196289,
          112.79900360107422,
          114.03900146484375,
          114.13700103759766,
          117.74600219726562,
          114.56400299072266,
          117.010498046875,
          117.22949981689453,
          117.23799896240234,
          114.91799926757812,
          111.42749786376953,
          106.87650299072266,
          107.19400024414062,
          110.3905029296875,
          106.63600158691406,
          107.8655014038086,
          112.01499938964844,
          112.03399658203125,
          112.68450164794922,
          118.53800201416016,
          116.62249755859375,
          112.57150268554688,
          112.25650024414062,
          109.37249755859375,
          109.08100128173828,
          113.88700103759766,
          115.2135009765625,
          119.30599975585938,
          120.16850280761719,
          116.52249908447266,
          114.84950256347656,
          112.18699645996094,
          111.44000244140625,
          112.76699829101562,
          109.91000366210938,
          114.62000274658203,
          114.69999694824219,
          115.04000091552734,
          108.36000061035156,
          108.20999908447266,
          105.44000244140625,
          113.5999984741211,
          114.58999633789062,
          116.63999938964844,
          115.4800033569336,
          115.9000015258789,
          118.77999877929688,
          118.87000274658203,
          118.22000122070312,
          118.13999938964844,
          117.5,
          120.6500015258789,
          119.81999969482422,
          122.6500015258789,
          122.87999725341797,
          122.51000213623047,
          120.31999969482422,
          120.86000061035156,
          118.12000274658203,
          115.06999969482422,
          114.7699966430664,
          114.69999694824219,
          117.69999694824219,
          111.30000305175781,
          110.33999633789062,
          109.91000366210938,
          109.1500015258789,
          110.55000305175781,
          108.68000030517578,
          107.4800033569336,
          110.4800033569336,
          109.41999816894531,
          111.77999877929688,
          111.87000274658203,
          105.30999755859375,
          105.87000274658203,
          103.9000015258789,
          103.62999725341797,
          103.8499984741211,
          101.83000183105469,
          100.01000213623047,
          100.56999969482422,
          99.16999816894531,
          98.80999755859375,
          98.08999633789062,
          100.73999786376953,
          98.08999633789062,
          96.1500015258789,
          99.30000305175781,
          102.41000366210938,
          102.22000122070312,
          102.23999786376953,
          99.56999969482422,
          98.70999908447266,
          98.05000305175781,
          98.30000305175781,
          99.70999908447266,
          97.18000030517578,
          100.77999877929688,
          101.38999938964844,
          100.29000091552734,
          100.52999877929688,
          101.4800033569336,
          102.97000122070312,
          104.93000030517578,
          94.81999969482422,
          92.5999984741211,
          96.58000183105469,
          94.66000366210938,
          90.5
         ],
         "yaxis": "y"
        }
       ],
       "layout": {
        "legend": {
         "tracegroupgap": 0
        },
        "template": {
         "data": {
          "bar": [
           {
            "error_x": {
             "color": "#2a3f5f"
            },
            "error_y": {
             "color": "#2a3f5f"
            },
            "marker": {
             "line": {
              "color": "#E5ECF6",
              "width": 0.5
             },
             "pattern": {
              "fillmode": "overlay",
              "size": 10,
              "solidity": 0.2
             }
            },
            "type": "bar"
           }
          ],
          "barpolar": [
           {
            "marker": {
             "line": {
              "color": "#E5ECF6",
              "width": 0.5
             },
             "pattern": {
              "fillmode": "overlay",
              "size": 10,
              "solidity": 0.2
             }
            },
            "type": "barpolar"
           }
          ],
          "carpet": [
           {
            "aaxis": {
             "endlinecolor": "#2a3f5f",
             "gridcolor": "white",
             "linecolor": "white",
             "minorgridcolor": "white",
             "startlinecolor": "#2a3f5f"
            },
            "baxis": {
             "endlinecolor": "#2a3f5f",
             "gridcolor": "white",
             "linecolor": "white",
             "minorgridcolor": "white",
             "startlinecolor": "#2a3f5f"
            },
            "type": "carpet"
           }
          ],
          "choropleth": [
           {
            "colorbar": {
             "outlinewidth": 0,
             "ticks": ""
            },
            "type": "choropleth"
           }
          ],
          "contour": [
           {
            "colorbar": {
             "outlinewidth": 0,
             "ticks": ""
            },
            "colorscale": [
             [
              0,
              "#0d0887"
             ],
             [
              0.1111111111111111,
              "#46039f"
             ],
             [
              0.2222222222222222,
              "#7201a8"
             ],
             [
              0.3333333333333333,
              "#9c179e"
             ],
             [
              0.4444444444444444,
              "#bd3786"
             ],
             [
              0.5555555555555556,
              "#d8576b"
             ],
             [
              0.6666666666666666,
              "#ed7953"
             ],
             [
              0.7777777777777778,
              "#fb9f3a"
             ],
             [
              0.8888888888888888,
              "#fdca26"
             ],
             [
              1,
              "#f0f921"
             ]
            ],
            "type": "contour"
           }
          ],
          "contourcarpet": [
           {
            "colorbar": {
             "outlinewidth": 0,
             "ticks": ""
            },
            "type": "contourcarpet"
           }
          ],
          "heatmap": [
           {
            "colorbar": {
             "outlinewidth": 0,
             "ticks": ""
            },
            "colorscale": [
             [
              0,
              "#0d0887"
             ],
             [
              0.1111111111111111,
              "#46039f"
             ],
             [
              0.2222222222222222,
              "#7201a8"
             ],
             [
              0.3333333333333333,
              "#9c179e"
             ],
             [
              0.4444444444444444,
              "#bd3786"
             ],
             [
              0.5555555555555556,
              "#d8576b"
             ],
             [
              0.6666666666666666,
              "#ed7953"
             ],
             [
              0.7777777777777778,
              "#fb9f3a"
             ],
             [
              0.8888888888888888,
              "#fdca26"
             ],
             [
              1,
              "#f0f921"
             ]
            ],
            "type": "heatmap"
           }
          ],
          "heatmapgl": [
           {
            "colorbar": {
             "outlinewidth": 0,
             "ticks": ""
            },
            "colorscale": [
             [
              0,
              "#0d0887"
             ],
             [
              0.1111111111111111,
              "#46039f"
             ],
             [
              0.2222222222222222,
              "#7201a8"
             ],
             [
              0.3333333333333333,
              "#9c179e"
             ],
             [
              0.4444444444444444,
              "#bd3786"
             ],
             [
              0.5555555555555556,
              "#d8576b"
             ],
             [
              0.6666666666666666,
              "#ed7953"
             ],
             [
              0.7777777777777778,
              "#fb9f3a"
             ],
             [
              0.8888888888888888,
              "#fdca26"
             ],
             [
              1,
              "#f0f921"
             ]
            ],
            "type": "heatmapgl"
           }
          ],
          "histogram": [
           {
            "marker": {
             "pattern": {
              "fillmode": "overlay",
              "size": 10,
              "solidity": 0.2
             }
            },
            "type": "histogram"
           }
          ],
          "histogram2d": [
           {
            "colorbar": {
             "outlinewidth": 0,
             "ticks": ""
            },
            "colorscale": [
             [
              0,
              "#0d0887"
             ],
             [
              0.1111111111111111,
              "#46039f"
             ],
             [
              0.2222222222222222,
              "#7201a8"
             ],
             [
              0.3333333333333333,
              "#9c179e"
             ],
             [
              0.4444444444444444,
              "#bd3786"
             ],
             [
              0.5555555555555556,
              "#d8576b"
             ],
             [
              0.6666666666666666,
              "#ed7953"
             ],
             [
              0.7777777777777778,
              "#fb9f3a"
             ],
             [
              0.8888888888888888,
              "#fdca26"
             ],
             [
              1,
              "#f0f921"
             ]
            ],
            "type": "histogram2d"
           }
          ],
          "histogram2dcontour": [
           {
            "colorbar": {
             "outlinewidth": 0,
             "ticks": ""
            },
            "colorscale": [
             [
              0,
              "#0d0887"
             ],
             [
              0.1111111111111111,
              "#46039f"
             ],
             [
              0.2222222222222222,
              "#7201a8"
             ],
             [
              0.3333333333333333,
              "#9c179e"
             ],
             [
              0.4444444444444444,
              "#bd3786"
             ],
             [
              0.5555555555555556,
              "#d8576b"
             ],
             [
              0.6666666666666666,
              "#ed7953"
             ],
             [
              0.7777777777777778,
              "#fb9f3a"
             ],
             [
              0.8888888888888888,
              "#fdca26"
             ],
             [
              1,
              "#f0f921"
             ]
            ],
            "type": "histogram2dcontour"
           }
          ],
          "mesh3d": [
           {
            "colorbar": {
             "outlinewidth": 0,
             "ticks": ""
            },
            "type": "mesh3d"
           }
          ],
          "parcoords": [
           {
            "line": {
             "colorbar": {
              "outlinewidth": 0,
              "ticks": ""
             }
            },
            "type": "parcoords"
           }
          ],
          "pie": [
           {
            "automargin": true,
            "type": "pie"
           }
          ],
          "scatter": [
           {
            "fillpattern": {
             "fillmode": "overlay",
             "size": 10,
             "solidity": 0.2
            },
            "type": "scatter"
           }
          ],
          "scatter3d": [
           {
            "line": {
             "colorbar": {
              "outlinewidth": 0,
              "ticks": ""
             }
            },
            "marker": {
             "colorbar": {
              "outlinewidth": 0,
              "ticks": ""
             }
            },
            "type": "scatter3d"
           }
          ],
          "scattercarpet": [
           {
            "marker": {
             "colorbar": {
              "outlinewidth": 0,
              "ticks": ""
             }
            },
            "type": "scattercarpet"
           }
          ],
          "scattergeo": [
           {
            "marker": {
             "colorbar": {
              "outlinewidth": 0,
              "ticks": ""
             }
            },
            "type": "scattergeo"
           }
          ],
          "scattergl": [
           {
            "marker": {
             "colorbar": {
              "outlinewidth": 0,
              "ticks": ""
             }
            },
            "type": "scattergl"
           }
          ],
          "scattermapbox": [
           {
            "marker": {
             "colorbar": {
              "outlinewidth": 0,
              "ticks": ""
             }
            },
            "type": "scattermapbox"
           }
          ],
          "scatterpolar": [
           {
            "marker": {
             "colorbar": {
              "outlinewidth": 0,
              "ticks": ""
             }
            },
            "type": "scatterpolar"
           }
          ],
          "scatterpolargl": [
           {
            "marker": {
             "colorbar": {
              "outlinewidth": 0,
              "ticks": ""
             }
            },
            "type": "scatterpolargl"
           }
          ],
          "scatterternary": [
           {
            "marker": {
             "colorbar": {
              "outlinewidth": 0,
              "ticks": ""
             }
            },
            "type": "scatterternary"
           }
          ],
          "surface": [
           {
            "colorbar": {
             "outlinewidth": 0,
             "ticks": ""
            },
            "colorscale": [
             [
              0,
              "#0d0887"
             ],
             [
              0.1111111111111111,
              "#46039f"
             ],
             [
              0.2222222222222222,
              "#7201a8"
             ],
             [
              0.3333333333333333,
              "#9c179e"
             ],
             [
              0.4444444444444444,
              "#bd3786"
             ],
             [
              0.5555555555555556,
              "#d8576b"
             ],
             [
              0.6666666666666666,
              "#ed7953"
             ],
             [
              0.7777777777777778,
              "#fb9f3a"
             ],
             [
              0.8888888888888888,
              "#fdca26"
             ],
             [
              1,
              "#f0f921"
             ]
            ],
            "type": "surface"
           }
          ],
          "table": [
           {
            "cells": {
             "fill": {
              "color": "#EBF0F8"
             },
             "line": {
              "color": "white"
             }
            },
            "header": {
             "fill": {
              "color": "#C8D4E3"
             },
             "line": {
              "color": "white"
             }
            },
            "type": "table"
           }
          ]
         },
         "layout": {
          "annotationdefaults": {
           "arrowcolor": "#2a3f5f",
           "arrowhead": 0,
           "arrowwidth": 1
          },
          "autotypenumbers": "strict",
          "coloraxis": {
           "colorbar": {
            "outlinewidth": 0,
            "ticks": ""
           }
          },
          "colorscale": {
           "diverging": [
            [
             0,
             "#8e0152"
            ],
            [
             0.1,
             "#c51b7d"
            ],
            [
             0.2,
             "#de77ae"
            ],
            [
             0.3,
             "#f1b6da"
            ],
            [
             0.4,
             "#fde0ef"
            ],
            [
             0.5,
             "#f7f7f7"
            ],
            [
             0.6,
             "#e6f5d0"
            ],
            [
             0.7,
             "#b8e186"
            ],
            [
             0.8,
             "#7fbc41"
            ],
            [
             0.9,
             "#4d9221"
            ],
            [
             1,
             "#276419"
            ]
           ],
           "sequential": [
            [
             0,
             "#0d0887"
            ],
            [
             0.1111111111111111,
             "#46039f"
            ],
            [
             0.2222222222222222,
             "#7201a8"
            ],
            [
             0.3333333333333333,
             "#9c179e"
            ],
            [
             0.4444444444444444,
             "#bd3786"
            ],
            [
             0.5555555555555556,
             "#d8576b"
            ],
            [
             0.6666666666666666,
             "#ed7953"
            ],
            [
             0.7777777777777778,
             "#fb9f3a"
            ],
            [
             0.8888888888888888,
             "#fdca26"
            ],
            [
             1,
             "#f0f921"
            ]
           ],
           "sequentialminus": [
            [
             0,
             "#0d0887"
            ],
            [
             0.1111111111111111,
             "#46039f"
            ],
            [
             0.2222222222222222,
             "#7201a8"
            ],
            [
             0.3333333333333333,
             "#9c179e"
            ],
            [
             0.4444444444444444,
             "#bd3786"
            ],
            [
             0.5555555555555556,
             "#d8576b"
            ],
            [
             0.6666666666666666,
             "#ed7953"
            ],
            [
             0.7777777777777778,
             "#fb9f3a"
            ],
            [
             0.8888888888888888,
             "#fdca26"
            ],
            [
             1,
             "#f0f921"
            ]
           ]
          },
          "colorway": [
           "#636efa",
           "#EF553B",
           "#00cc96",
           "#ab63fa",
           "#FFA15A",
           "#19d3f3",
           "#FF6692",
           "#B6E880",
           "#FF97FF",
           "#FECB52"
          ],
          "font": {
           "color": "#2a3f5f"
          },
          "geo": {
           "bgcolor": "white",
           "lakecolor": "white",
           "landcolor": "#E5ECF6",
           "showlakes": true,
           "showland": true,
           "subunitcolor": "white"
          },
          "hoverlabel": {
           "align": "left"
          },
          "hovermode": "closest",
          "mapbox": {
           "style": "light"
          },
          "paper_bgcolor": "white",
          "plot_bgcolor": "#E5ECF6",
          "polar": {
           "angularaxis": {
            "gridcolor": "white",
            "linecolor": "white",
            "ticks": ""
           },
           "bgcolor": "#E5ECF6",
           "radialaxis": {
            "gridcolor": "white",
            "linecolor": "white",
            "ticks": ""
           }
          },
          "scene": {
           "xaxis": {
            "backgroundcolor": "#E5ECF6",
            "gridcolor": "white",
            "gridwidth": 2,
            "linecolor": "white",
            "showbackground": true,
            "ticks": "",
            "zerolinecolor": "white"
           },
           "yaxis": {
            "backgroundcolor": "#E5ECF6",
            "gridcolor": "white",
            "gridwidth": 2,
            "linecolor": "white",
            "showbackground": true,
            "ticks": "",
            "zerolinecolor": "white"
           },
           "zaxis": {
            "backgroundcolor": "#E5ECF6",
            "gridcolor": "white",
            "gridwidth": 2,
            "linecolor": "white",
            "showbackground": true,
            "ticks": "",
            "zerolinecolor": "white"
           }
          },
          "shapedefaults": {
           "line": {
            "color": "#2a3f5f"
           }
          },
          "ternary": {
           "aaxis": {
            "gridcolor": "white",
            "linecolor": "white",
            "ticks": ""
           },
           "baxis": {
            "gridcolor": "white",
            "linecolor": "white",
            "ticks": ""
           },
           "bgcolor": "#E5ECF6",
           "caxis": {
            "gridcolor": "white",
            "linecolor": "white",
            "ticks": ""
           }
          },
          "title": {
           "x": 0.05
          },
          "xaxis": {
           "automargin": true,
           "gridcolor": "white",
           "linecolor": "white",
           "ticks": "",
           "title": {
            "standoff": 15
           },
           "zerolinecolor": "white",
           "zerolinewidth": 2
          },
          "yaxis": {
           "automargin": true,
           "gridcolor": "white",
           "linecolor": "white",
           "ticks": "",
           "title": {
            "standoff": 15
           },
           "zerolinecolor": "white",
           "zerolinewidth": 2
          }
         }
        },
        "title": {
         "text": "Stock Market Analysis with Rangeslider"
        },
        "xaxis": {
         "anchor": "y",
         "domain": [
          0,
          1
         ],
         "title": {
          "text": "Date"
         }
        },
        "yaxis": {
         "anchor": "x",
         "domain": [
          0,
          1
         ],
         "title": {
          "text": "Close"
         }
        }
       }
      }
     },
     "metadata": {},
     "output_type": "display_data"
    }
   ],
   "source": [
    "px.line(data, x='Date', y='Close', \n",
    "                 title='Stock Market Analysis with Rangeslider')\n"
   ]
  },
  {
   "cell_type": "code",
   "execution_count": 56,
   "metadata": {},
   "outputs": [
    {
     "data": {
      "application/vnd.plotly.v1+json": {
       "config": {
        "plotlyServerURL": "https://plot.ly"
       },
       "data": [
        {
         "close": [
          145.86300659179688,
          146.7899932861328,
          148.68299865722656,
          149.24099731445312,
          149.35150146484375,
          149.24850463867188,
          146.62600708007812,
          146.7480010986328,
          149.64549255371094,
          149.38800048828125,
          149.0760040283203,
          149.06199645996094,
          150.70899963378906,
          149.95249938964844,
          147.07850646972656,
          146.7570037841797,
          146.71749877929688,
          142.80599975585938,
          146.11399841308594,
          142.45199584960938,
          141.6179962158203,
          143.77650451660156,
          142.52049255371094,
          143.79649353027344,
          148.0364990234375,
          148.7205047607422,
          148.1060028076172,
          148.6750030517578,
          146.70449829101562,
          144.9705047607422,
          147.36849975585938,
          144.8385009765625,
          142.80299377441406,
          142.40150451660156,
          144.2205047607422,
          146.94900512695312,
          147.1425018310547,
          148.06399536132812,
          146.447998046875,
          146.50450134277344,
          146.00250244140625,
          144.67950439453125,
          145.07449340820312,
          144.41650390625,
          137.65350341796875,
          137.55099487304688,
          137.00450134277344,
          138.57400512695312,
          140.0175018310547,
          141.6479949951172,
          139.13099670410156,
          139.7864990234375,
          136.29049682617188,
          135.65199279785156,
          133.50650024414062,
          130.0919952392578,
          130.3719940185547,
          126.7354965209961,
          129.24000549316406,
          129.12100219726562,
          133.2895050048828,
          135.69850158691406,
          137.8784942626953,
          148.0364990234375,
          142.65049743652344,
          143.01600646972656,
          138.93800354003906,
          139.21299743652344,
          141.4530029296875,
          138.6024932861328,
          134.1300048828125,
          135.3000030517578,
          136.42550659179688,
          137.4875030517578,
          132.30850219726562,
          130.46749877929688,
          129.40249633789062,
          127.58499908447266,
          132.67349243164062,
          134.51950073242188,
          134.89100646972656,
          134.16799926757812,
          134.75149536132812,
          134.30799865722656,
          132.1219940185547,
          126.4645004272461,
          127.27850341796875,
          133.86599731445312,
          132.6820068359375,
          130.47549438476562,
          126.74099731445312,
          129.66050720214844,
          133.6905059814453,
          134.60049438476562,
          136.80149841308594,
          136.47850036621094,
          140.27749633789062,
          138.5034942626953,
          141.31199645996094,
          141.52149963378906,
          141.9499969482422,
          143.25,
          142.64450073242188,
          139.64950561523438,
          140.6999969482422,
          143.6425018310547,
          141.06300354003906,
          137.17599487304688,
          136.46499633789062,
          134.010498046875,
          129.79649353027344,
          128.37449645996094,
          130.28599548339844,
          127.25299835205078,
          127.96099853515625,
          130.531005859375,
          128.24549865722656,
          124.9375,
          119.61399841308594,
          123.25,
          119.50599670410156,
          115.02050018310547,
          119.4114990234375,
          114.96649932861328,
          117.15699768066406,
          118.12950134277344,
          122.57499694824219,
          116.74649810791016,
          115.66000366210938,
          113.08399963378906,
          114.58450317382812,
          113.96099853515625,
          113.16100311279297,
          116.5155029296875,
          114.7925033569336,
          116.70149993896484,
          112.4010009765625,
          110.74549865722656,
          109.31300354003906,
          111.66649627685547,
          105.9260025024414,
          105.8395004272461,
          108.2959976196289,
          112.79900360107422,
          114.03900146484375,
          114.13700103759766,
          117.74600219726562,
          114.56400299072266,
          117.010498046875,
          117.22949981689453,
          117.23799896240234,
          114.91799926757812,
          111.42749786376953,
          106.87650299072266,
          107.19400024414062,
          110.3905029296875,
          106.63600158691406,
          107.8655014038086,
          112.01499938964844,
          112.03399658203125,
          112.68450164794922,
          118.53800201416016,
          116.62249755859375,
          112.57150268554688,
          112.25650024414062,
          109.37249755859375,
          109.08100128173828,
          113.88700103759766,
          115.2135009765625,
          119.30599975585938,
          120.16850280761719,
          116.52249908447266,
          114.84950256347656,
          112.18699645996094,
          111.44000244140625,
          112.76699829101562,
          109.91000366210938,
          114.62000274658203,
          114.69999694824219,
          115.04000091552734,
          108.36000061035156,
          108.20999908447266,
          105.44000244140625,
          113.5999984741211,
          114.58999633789062,
          116.63999938964844,
          115.4800033569336,
          115.9000015258789,
          118.77999877929688,
          118.87000274658203,
          118.22000122070312,
          118.13999938964844,
          117.5,
          120.6500015258789,
          119.81999969482422,
          122.6500015258789,
          122.87999725341797,
          122.51000213623047,
          120.31999969482422,
          120.86000061035156,
          118.12000274658203,
          115.06999969482422,
          114.7699966430664,
          114.69999694824219,
          117.69999694824219,
          111.30000305175781,
          110.33999633789062,
          109.91000366210938,
          109.1500015258789,
          110.55000305175781,
          108.68000030517578,
          107.4800033569336,
          110.4800033569336,
          109.41999816894531,
          111.77999877929688,
          111.87000274658203,
          105.30999755859375,
          105.87000274658203,
          103.9000015258789,
          103.62999725341797,
          103.8499984741211,
          101.83000183105469,
          100.01000213623047,
          100.56999969482422,
          99.16999816894531,
          98.80999755859375,
          98.08999633789062,
          100.73999786376953,
          98.08999633789062,
          96.1500015258789,
          99.30000305175781,
          102.41000366210938,
          102.22000122070312,
          102.23999786376953,
          99.56999969482422,
          98.70999908447266,
          98.05000305175781,
          98.30000305175781,
          99.70999908447266,
          97.18000030517578,
          100.77999877929688,
          101.38999938964844,
          100.29000091552734,
          100.52999877929688,
          101.4800033569336,
          102.97000122070312,
          104.93000030517578,
          94.81999969482422,
          92.5999984741211,
          96.58000183105469,
          94.66000366210938,
          90.5
         ],
         "high": [
          146.92050170898438,
          146.91050720214844,
          149.9499969482422,
          150.5707550048828,
          151.0345001220703,
          150.3784942626953,
          148.6999969482422,
          148.5022430419922,
          149.8594970703125,
          150.4770050048828,
          149.83250427246094,
          149.62600708007812,
          151.61000061035156,
          151.85000610351562,
          150.7445068359375,
          147.69400024414062,
          147,
          145.2969970703125,
          146.86199951171875,
          146.6284942626953,
          146.4991455078125,
          144.6750030517578,
          145.21299743652344,
          144.35150146484375,
          148.3000030517578,
          149.156494140625,
          149.60499572753906,
          149.39999389648438,
          148.5625,
          145.44200134277344,
          147.51724243164062,
          148.55149841308594,
          144.46009826660156,
          142.61050415039062,
          144.69204711914062,
          147.30299377441406,
          148.57260131835938,
          148.42649841308594,
          148.37449645996094,
          147.18374633789062,
          147.0625,
          146.36500549316406,
          145.5500030517578,
          146.61000061035156,
          144.29800415039062,
          139.68600463867188,
          138.25474548339844,
          138.63999938964844,
          140.32949829101562,
          142.8142547607422,
          143.1855010986328,
          141.20050048828125,
          137.39149475097656,
          138.39950561523438,
          137.91200256347656,
          134.760498046875,
          130.77850341796875,
          129.3385009765625,
          132.8074951171875,
          132.60995483398438,
          133.37049865722656,
          135.843505859375,
          138.1999969482422,
          152.10000610351562,
          149.11770629882812,
          144.53524780273438,
          143.84649658203125,
          139.83709716796875,
          142.17550659179688,
          141.43099975585938,
          139.2832489013672,
          136.16650390625,
          137.89999389648438,
          137.9459991455078,
          136.83949279785156,
          133.82400512695312,
          131.9007568359375,
          131.74899291992188,
          133.03700256347656,
          135.38900756835938,
          135.6405029296875,
          136.11099243164062,
          135.61549377441406,
          136.71380615234375,
          134.19900512695312,
          131.9040069580078,
          131.2465057373047,
          134.19850158691406,
          133.5384979248047,
          134.1999969482422,
          131.0260009765625,
          130.51724243164062,
          133.77099609375,
          134.739501953125,
          136.9134979248047,
          137.58250427246094,
          141.5,
          140.02499389648438,
          141.39649963378906,
          141.95950317382812,
          141.97650146484375,
          144.16250610351562,
          143.48049926757812,
          142.64450073242188,
          140.9499969482422,
          144.0437469482422,
          143.58999633789062,
          139.84849548339844,
          137.70150756835938,
          136.25,
          132.93919372558594,
          132.42349243164062,
          130.65574645996094,
          130.7102508544922,
          128.71200561523438,
          130.90374755859375,
          131.92349243164062,
          130.3074951171875,
          125.4520034790039,
          123.27799987792969,
          122.75,
          117.5,
          120.4384994506836,
          118.95999908447266,
          117.3395004272461,
          119.30000305175781,
          123.14299774169922,
          121.2332534790039,
          117.49849700927734,
          115.56289672851562,
          116.69100189208984,
          116.6709976196289,
          114.85649871826172,
          118.08499908447266,
          116.60749816894531,
          117.22750091552734,
          115.69564819335938,
          113.5875015258789,
          112.55000305175781,
          112.00550079345703,
          106.3949966430664,
          106.5447006225586,
          108.95525360107422,
          112.86799621582031,
          116.43350219726562,
          117.39900207519531,
          117.89800262451172,
          116.364501953125,
          119.39849853515625,
          117.74864959716797,
          118.64600372314453,
          118.3499984741211,
          113.49700164794922,
          109.21849822998047,
          108.4574966430664,
          112.06300354003906,
          109.29049682617188,
          109.24949645996094,
          112.6729965209961,
          113.76950073242188,
          113.19650268554688,
          118.63749694824219,
          119.25,
          117.85649871826172,
          113.66449737548828,
          111.32980346679688,
          109.80635070800781,
          114.05259704589844,
          116.35199737548828,
          119.86199951171875,
          120.43499755859375,
          118.79450225830078,
          117.84950256347656,
          115.15699768066406,
          111.98750305175781,
          114.00050354003906,
          114.80000305175781,
          114.80999755859375,
          116.33000183105469,
          115.20999908447266,
          113.18000030517578,
          110.58000183105469,
          107.73999786376953,
          114.4000015258789,
          114.69999694824219,
          116.9000015258789,
          117.12000274658203,
          117.08000183105469,
          119.41999816894531,
          119.5,
          118.86000061035156,
          120.86000061035156,
          118.19999694824219,
          121.77999877929688,
          122.33999633789062,
          122.6500015258789,
          123.26000213623047,
          123.22799682617188,
          122.1500015258789,
          121.69000244140625,
          120,
          116.5,
          115.93000030517578,
          115.71700286865234,
          117.77999877929688,
          116.5999984741211,
          111.95999908447266,
          111.37000274658203,
          111.7699966430664,
          111.22000122070312,
          111.67500305175781,
          108.87999725341797,
          110.98999786376953,
          110.58000183105469,
          112,
          112.63999938964844,
          109.37000274658203,
          106.0999984741211,
          106.20999908447266,
          104.02999877929688,
          104.0199966430664,
          103.16999816894531,
          103.48999786376953,
          101.68000030517578,
          100.11000061035156,
          100.44000244140625,
          100.45999908447266,
          101.4000015258789,
          99.30000305175781,
          99.49400329589844,
          99.97000122070312,
          102.72000122070312,
          102.73999786376953,
          103.7300033569336,
          101.41999816894531,
          99.98999786376953,
          100.12000274658203,
          99.64800262451172,
          100.52999877929688,
          101.29000091552734,
          101.7699966430664,
          104.22000122070312,
          101.65899658203125,
          103,
          101.62000274658203,
          103.0999984741211,
          105.0999984741211,
          98.54000091552734,
          95.16999816894531,
          96.86000061035156,
          96.3499984741211,
          96.16500091552734
         ],
         "low": [
          144.64100646972656,
          145.05349731445312,
          146.63499450683594,
          148.65199279785156,
          149.1199951171875,
          147.5070037841797,
          145.3249969482422,
          146.6945037841797,
          146.45399475097656,
          148.65249633789062,
          148.35000610351562,
          148.56300354003906,
          148.99850463867188,
          149.8874969482422,
          147.0054931640625,
          144.88949584960938,
          145.19900512695312,
          142.48550415039062,
          144.29849243164062,
          142.0659942626953,
          141.5,
          140.98199462890625,
          141.14999389648438,
          140.64700317382812,
          145.70249938964844,
          147.1999969482422,
          147.5290069580078,
          147.3574981689453,
          146.36000061035156,
          142.24249267578125,
          142.70550537109375,
          144.09249877929688,
          141.78799438476562,
          140.25,
          141.73500061035156,
          143.96299743652344,
          146.9508514404297,
          147.25,
          145.9355010986328,
          145.50450134277344,
          145.7584991455078,
          144.67750549316406,
          143.50250244140625,
          143.81614685058594,
          137.52349853515625,
          136.7635040283203,
          135.78900146484375,
          133.1405029296875,
          136.81350708007812,
          141.11199951171875,
          138.91400146484375,
          137.5,
          135.61700439453125,
          135.5,
          133.14450073242188,
          130.00100708007812,
          124.64195251464844,
          126.37799835205078,
          127.15350341796875,
          128.94500732421875,
          128.6945037841797,
          132.2740020751953,
          134.56825256347656,
          145.5574951171875,
          142.2050018310547,
          139.8175048828125,
          138.69900512695312,
          136.8730010986328,
          140.3769989013672,
          138.0500030517578,
          133.2884979248047,
          133.302001953125,
          135.5395050048828,
          134.8236541748047,
          132.20199584960938,
          130.3070526123047,
          127.74099731445312,
          127.50350189208984,
          124.7645034790039,
          131.76499938964844,
          132.82525634765625,
          133.3784942626953,
          133.4324951171875,
          133.43099975585938,
          130.4084930419922,
          126.41000366210938,
          125.86074829101562,
          130.08799743652344,
          131.4010009765625,
          130.29649353027344,
          126.41300201416016,
          126.56800079345703,
          129.2010040283203,
          132.718994140625,
          132.9320068359375,
          134.6114959716797,
          136.5,
          138.16650390625,
          138.03939819335938,
          139.69949340820312,
          139.82815551757812,
          142.48399353027344,
          142.16799926757812,
          139.61900329589844,
          138.7969970703125,
          140.82449340820312,
          140.94349670410156,
          136.41810607910156,
          134.8572540283203,
          133.75250244140625,
          129.61749267578125,
          127.57599639892578,
          128.4385986328125,
          127.11150360107422,
          126.57845306396484,
          127.45149993896484,
          127.89405059814453,
          124.6500015258789,
          119.1405029296875,
          118.76924896240234,
          119.16184997558594,
          113.12425231933594,
          115.1438980102539,
          114.69400024414062,
          113.39949798583984,
          116.62699890136719,
          115.7385025024414,
          115.18250274658203,
          114.14299774169922,
          112.55149841308594,
          113.38330078125,
          113.6500015258789,
          110.1135025024414,
          114,
          114.33499908447266,
          115.3375015258789,
          112.14199829101562,
          110.46800231933594,
          106.37300109863281,
          109.15425109863281,
          102.20800018310547,
          104.21125030517578,
          105.48799896240234,
          109.55000305175781,
          112.57250213623047,
          113.55049896240234,
          113.30799865722656,
          113.66799926757812,
          116.5282974243164,
          115.12550354003906,
          116.69674682617188,
          114.86699676513672,
          110.86100006103516,
          106.58805084228516,
          106.35199737548828,
          108.1187515258789,
          105.7925033569336,
          105.62854766845703,
          109.29350280761719,
          110.72429656982422,
          111.02899932861328,
          113.60299682617188,
          116.00074768066406,
          112.44400024414062,
          111.55400085449219,
          107.30999755859375,
          107.1050033569336,
          106.24949645996094,
          112.25050354003906,
          115.53399658203125,
          117.51399993896484,
          116.2344970703125,
          114.61499786376953,
          111.822998046875,
          109.32550048828125,
          111.82250213623047,
          109.30000305175781,
          110.5,
          113.26000213623047,
          111.91000366210938,
          107.5999984741211,
          107.01000213623047,
          104.76000213623047,
          108.41999816894531,
          111.85099792480469,
          113.2300033569336,
          114.69000244140625,
          114.26000213623047,
          116.1500015258789,
          117.70999908447266,
          116.70999908447266,
          117.83000183105469,
          116.55999755859375,
          119.36000061035156,
          119.55000305175781,
          120.4000015258789,
          121.56999969482422,
          121.53500366210938,
          120.19999694824219,
          119.55000305175781,
          117.66999816894531,
          114.66999816894531,
          114.30000305175781,
          113.77999877929688,
          115.05000305175781,
          111.22000122070312,
          109.80999755859375,
          108.80000305175781,
          109.05000305175781,
          108.19000244140625,
          108.12999725341797,
          106.51000213623047,
          107.61499786376953,
          108.05999755859375,
          110,
          110.93000030517578,
          105,
          104.5,
          103.30999755859375,
          101.8550033569336,
          102.37000274658203,
          101.12000274658203,
          99.98999786376953,
          99.41000366210938,
          98.01000213623047,
          98.37999725341797,
          97.33999633789062,
          97.80000305175781,
          96.5199966430664,
          96.02999877929688,
          97.0199966430664,
          101.04000091552734,
          99.73999786376953,
          101.5,
          99.20999908447266,
          97.87000274658203,
          97.25,
          97.66999816894531,
          95.2699966430664,
          97.02999877929688,
          99.51000213623047,
          100.6500015258789,
          99.63500213623047,
          99.97000122070312,
          98.2300033569336,
          100.30000305175781,
          103.0199966430664,
          94.56999969482422,
          91.9000015258789,
          92.322998046875,
          94.37999725341797,
          90.43000030517578
         ],
         "open": [
          144.8094024658203,
          146.27499389648438,
          147.1999969482422,
          149.35350036621094,
          150,
          149.74600219726562,
          148.00975036621094,
          147.10699462890625,
          147.8314971923828,
          150,
          149.17050170898438,
          149.22900390625,
          149.14599609375,
          151,
          150.14175415039062,
          147.11300659179688,
          146.35000610351562,
          145.0155029296875,
          144.29849243164062,
          145.45025634765625,
          144.21249389648438,
          141.82400512695312,
          144.49549865722656,
          143.57400512695312,
          145.9499969482422,
          148.3314971923828,
          148.17599487304688,
          149.10000610351562,
          148.44400024414062,
          144.77000427246094,
          144.36599731445312,
          148.07699584960938,
          142.71449279785156,
          140.67959594726562,
          143.14999389648438,
          144.10000610351562,
          147.08949279785156,
          147.4635009765625,
          148.37449645996094,
          146.42950439453125,
          146.4499969482422,
          145.54400634765625,
          144.47549438476562,
          145.55050659179688,
          144.18099975585938,
          137.49749755859375,
          137.90499877929688,
          135.0989990234375,
          138.1804962158203,
          141.55450439453125,
          141.8404998779297,
          137.5,
          136.60000610351562,
          136.93850708007812,
          136.51400756835938,
          133.01199340820312,
          126.02749633789062,
          128.4355010986328,
          130.59249877929688,
          131.36099243164062,
          130,
          134.197998046875,
          137.8350067138672,
          151.86349487304688,
          145.2949981689453,
          143.01699829101562,
          143.70899963378906,
          138.9912567138672,
          140.84974670410156,
          139.5,
          138.75,
          133.36549377441406,
          137.47149658203125,
          136.4304962158203,
          136.14999389648438,
          133.03750610351562,
          129.98500061035156,
          131.07850646972656,
          125,
          133.52549743652344,
          133.2845001220703,
          134.47999572753906,
          134.60824584960938,
          135.97850036621094,
          133.38250732421875,
          131.9040069580078,
          126.25050354003906,
          131.39999389648438,
          131.46249389648438,
          133.99949645996094,
          130.572998046875,
          127.74150085449219,
          131,
          133.3209991455078,
          133.88400268554688,
          136.84750366210938,
          136.5,
          139.1385040283203,
          139.2725067138672,
          141.75399780273438,
          140.6844940185547,
          143.16050720214844,
          142.8699951171875,
          142.44850158691406,
          140.00999450683594,
          140.82449340820312,
          143.39950561523438,
          139.1614990234375,
          136.6179962158203,
          136.25,
          132.89999389648438,
          132.42349243164062,
          128.62649536132812,
          130.64950561523438,
          127.41000366210938,
          128.07699584960938,
          131.28399658203125,
          129.35000610351562,
          125,
          119.42949676513672,
          122.75,
          114.37300109863281,
          117.11499786376953,
          117.5780029296875,
          113.90650177001953,
          116.76499938964844,
          118.00350189208984,
          120.22049713134766,
          115.51899719238281,
          113.30349731445312,
          116.04049682617188,
          113.71050262451172,
          111.93800354003906,
          114.84549713134766,
          115.38400268554688,
          117.22750091552734,
          115.23750305175781,
          111.84100341796875,
          112.08550262451172,
          110.10399627685547,
          106.37750244140625,
          105.14199829101562,
          106.05049896240234,
          109.78849792480469,
          113.0790023803711,
          114.93150329589844,
          114.18800354003906,
          115.99250030517578,
          116.74250030517578,
          115.64800262451172,
          116.87650299072266,
          116.34149932861328,
          112.78125,
          107.44599914550781,
          106.88999938964844,
          108.89949798583984,
          108.14949798583984,
          106.53500366210938,
          109.7020034790039,
          111.16300201416016,
          112.94999694824219,
          113.60299682617188,
          118.93499755859375,
          116.35099792480469,
          112.14849853515625,
          110.49949645996094,
          108.33699798583984,
          107.5145034790039,
          114.09200286865234,
          116.00800323486328,
          117.55000305175781,
          118.6500015258789,
          116.8385009765625,
          112.63899993896484,
          110.82599639892578,
          112.96299743652344,
          113.44000244140625,
          111.7300033569336,
          114.05999755859375,
          115.08999633789062,
          111.80999755859375,
          108.87999725341797,
          107.43000030517578,
          109.5999984741211,
          112.80000305175781,
          113.4000015258789,
          115.52999877929688,
          114.43000030517578,
          116.33999633789062,
          118.30000305175781,
          116.93000030517578,
          119.12000274658203,
          117.98999786376953,
          119.58999633789062,
          122.08000183105469,
          121.16000366210938,
          122.20999908447266,
          122.31999969482422,
          120.93000030517578,
          120.2300033569336,
          119.87000274658203,
          116.0999984741211,
          114.31999969482422,
          114.44999694824219,
          115.1500015258789,
          115.80999755859375,
          110.77999877929688,
          111.02999877929688,
          111.62999725341797,
          109.19999694824219,
          111.33999633789062,
          108.13500213623047,
          107.76000213623047,
          109.18000030517578,
          110.05000305175781,
          111.98999786376953,
          108.88999938964844,
          105.44000244140625,
          105.01000213623047,
          102.97000122070312,
          102.54000091552734,
          102.87999725341797,
          102.23999786376953,
          99.44999694824219,
          100.05999755859375,
          98.61000061035156,
          99.91000366210938,
          98.0199966430664,
          99.30000305175781,
          97.7300033569336,
          97.22000122070312,
          101.04000091552734,
          100.69000244140625,
          101.5,
          100.6500015258789,
          99.8499984741211,
          98.25,
          98.2699966430664,
          95.93000030517578,
          100.625,
          99.5199966430664,
          103.94000244140625,
          100.69999694824219,
          100.81999969482422,
          98.45999908447266,
          102.08999633789062,
          103.30000305175781,
          96.76000213623047,
          94.30999755859375,
          92.52999877929688,
          95.77999877929688,
          95.58999633789062
         ],
         "type": "candlestick",
         "x": [
          "2021-11-02T00:00:00",
          "2021-11-03T00:00:00",
          "2021-11-04T00:00:00",
          "2021-11-05T00:00:00",
          "2021-11-08T00:00:00",
          "2021-11-09T00:00:00",
          "2021-11-10T00:00:00",
          "2021-11-11T00:00:00",
          "2021-11-12T00:00:00",
          "2021-11-15T00:00:00",
          "2021-11-16T00:00:00",
          "2021-11-17T00:00:00",
          "2021-11-18T00:00:00",
          "2021-11-19T00:00:00",
          "2021-11-22T00:00:00",
          "2021-11-23T00:00:00",
          "2021-11-24T00:00:00",
          "2021-11-26T00:00:00",
          "2021-11-29T00:00:00",
          "2021-11-30T00:00:00",
          "2021-12-01T00:00:00",
          "2021-12-02T00:00:00",
          "2021-12-03T00:00:00",
          "2021-12-06T00:00:00",
          "2021-12-07T00:00:00",
          "2021-12-08T00:00:00",
          "2021-12-09T00:00:00",
          "2021-12-10T00:00:00",
          "2021-12-13T00:00:00",
          "2021-12-14T00:00:00",
          "2021-12-15T00:00:00",
          "2021-12-16T00:00:00",
          "2021-12-17T00:00:00",
          "2021-12-20T00:00:00",
          "2021-12-21T00:00:00",
          "2021-12-22T00:00:00",
          "2021-12-23T00:00:00",
          "2021-12-27T00:00:00",
          "2021-12-28T00:00:00",
          "2021-12-29T00:00:00",
          "2021-12-30T00:00:00",
          "2021-12-31T00:00:00",
          "2022-01-03T00:00:00",
          "2022-01-04T00:00:00",
          "2022-01-05T00:00:00",
          "2022-01-06T00:00:00",
          "2022-01-07T00:00:00",
          "2022-01-10T00:00:00",
          "2022-01-11T00:00:00",
          "2022-01-12T00:00:00",
          "2022-01-13T00:00:00",
          "2022-01-14T00:00:00",
          "2022-01-18T00:00:00",
          "2022-01-19T00:00:00",
          "2022-01-20T00:00:00",
          "2022-01-21T00:00:00",
          "2022-01-24T00:00:00",
          "2022-01-25T00:00:00",
          "2022-01-26T00:00:00",
          "2022-01-27T00:00:00",
          "2022-01-28T00:00:00",
          "2022-01-31T00:00:00",
          "2022-02-01T00:00:00",
          "2022-02-02T00:00:00",
          "2022-02-03T00:00:00",
          "2022-02-04T00:00:00",
          "2022-02-07T00:00:00",
          "2022-02-08T00:00:00",
          "2022-02-09T00:00:00",
          "2022-02-10T00:00:00",
          "2022-02-11T00:00:00",
          "2022-02-14T00:00:00",
          "2022-02-15T00:00:00",
          "2022-02-16T00:00:00",
          "2022-02-17T00:00:00",
          "2022-02-18T00:00:00",
          "2022-02-22T00:00:00",
          "2022-02-23T00:00:00",
          "2022-02-24T00:00:00",
          "2022-02-25T00:00:00",
          "2022-02-28T00:00:00",
          "2022-03-01T00:00:00",
          "2022-03-02T00:00:00",
          "2022-03-03T00:00:00",
          "2022-03-04T00:00:00",
          "2022-03-07T00:00:00",
          "2022-03-08T00:00:00",
          "2022-03-09T00:00:00",
          "2022-03-10T00:00:00",
          "2022-03-11T00:00:00",
          "2022-03-14T00:00:00",
          "2022-03-15T00:00:00",
          "2022-03-16T00:00:00",
          "2022-03-17T00:00:00",
          "2022-03-18T00:00:00",
          "2022-03-21T00:00:00",
          "2022-03-22T00:00:00",
          "2022-03-23T00:00:00",
          "2022-03-24T00:00:00",
          "2022-03-25T00:00:00",
          "2022-03-28T00:00:00",
          "2022-03-29T00:00:00",
          "2022-03-30T00:00:00",
          "2022-03-31T00:00:00",
          "2022-04-01T00:00:00",
          "2022-04-04T00:00:00",
          "2022-04-05T00:00:00",
          "2022-04-06T00:00:00",
          "2022-04-07T00:00:00",
          "2022-04-08T00:00:00",
          "2022-04-11T00:00:00",
          "2022-04-12T00:00:00",
          "2022-04-13T00:00:00",
          "2022-04-14T00:00:00",
          "2022-04-18T00:00:00",
          "2022-04-19T00:00:00",
          "2022-04-20T00:00:00",
          "2022-04-21T00:00:00",
          "2022-04-22T00:00:00",
          "2022-04-25T00:00:00",
          "2022-04-26T00:00:00",
          "2022-04-27T00:00:00",
          "2022-04-28T00:00:00",
          "2022-04-29T00:00:00",
          "2022-05-02T00:00:00",
          "2022-05-03T00:00:00",
          "2022-05-04T00:00:00",
          "2022-05-05T00:00:00",
          "2022-05-06T00:00:00",
          "2022-05-09T00:00:00",
          "2022-05-10T00:00:00",
          "2022-05-11T00:00:00",
          "2022-05-12T00:00:00",
          "2022-05-13T00:00:00",
          "2022-05-16T00:00:00",
          "2022-05-17T00:00:00",
          "2022-05-18T00:00:00",
          "2022-05-19T00:00:00",
          "2022-05-20T00:00:00",
          "2022-05-23T00:00:00",
          "2022-05-24T00:00:00",
          "2022-05-25T00:00:00",
          "2022-05-26T00:00:00",
          "2022-05-27T00:00:00",
          "2022-05-31T00:00:00",
          "2022-06-01T00:00:00",
          "2022-06-02T00:00:00",
          "2022-06-03T00:00:00",
          "2022-06-06T00:00:00",
          "2022-06-07T00:00:00",
          "2022-06-08T00:00:00",
          "2022-06-09T00:00:00",
          "2022-06-10T00:00:00",
          "2022-06-13T00:00:00",
          "2022-06-14T00:00:00",
          "2022-06-15T00:00:00",
          "2022-06-16T00:00:00",
          "2022-06-17T00:00:00",
          "2022-06-21T00:00:00",
          "2022-06-22T00:00:00",
          "2022-06-23T00:00:00",
          "2022-06-24T00:00:00",
          "2022-06-27T00:00:00",
          "2022-06-28T00:00:00",
          "2022-06-29T00:00:00",
          "2022-06-30T00:00:00",
          "2022-07-01T00:00:00",
          "2022-07-05T00:00:00",
          "2022-07-06T00:00:00",
          "2022-07-07T00:00:00",
          "2022-07-08T00:00:00",
          "2022-07-11T00:00:00",
          "2022-07-12T00:00:00",
          "2022-07-13T00:00:00",
          "2022-07-14T00:00:00",
          "2022-07-15T00:00:00",
          "2022-07-18T00:00:00",
          "2022-07-19T00:00:00",
          "2022-07-20T00:00:00",
          "2022-07-21T00:00:00",
          "2022-07-22T00:00:00",
          "2022-07-25T00:00:00",
          "2022-07-26T00:00:00",
          "2022-07-27T00:00:00",
          "2022-07-28T00:00:00",
          "2022-07-29T00:00:00",
          "2022-08-01T00:00:00",
          "2022-08-02T00:00:00",
          "2022-08-03T00:00:00",
          "2022-08-04T00:00:00",
          "2022-08-05T00:00:00",
          "2022-08-08T00:00:00",
          "2022-08-09T00:00:00",
          "2022-08-10T00:00:00",
          "2022-08-11T00:00:00",
          "2022-08-12T00:00:00",
          "2022-08-15T00:00:00",
          "2022-08-16T00:00:00",
          "2022-08-17T00:00:00",
          "2022-08-18T00:00:00",
          "2022-08-19T00:00:00",
          "2022-08-22T00:00:00",
          "2022-08-23T00:00:00",
          "2022-08-24T00:00:00",
          "2022-08-25T00:00:00",
          "2022-08-26T00:00:00",
          "2022-08-29T00:00:00",
          "2022-08-30T00:00:00",
          "2022-08-31T00:00:00",
          "2022-09-01T00:00:00",
          "2022-09-02T00:00:00",
          "2022-09-06T00:00:00",
          "2022-09-07T00:00:00",
          "2022-09-08T00:00:00",
          "2022-09-09T00:00:00",
          "2022-09-12T00:00:00",
          "2022-09-13T00:00:00",
          "2022-09-14T00:00:00",
          "2022-09-15T00:00:00",
          "2022-09-16T00:00:00",
          "2022-09-19T00:00:00",
          "2022-09-20T00:00:00",
          "2022-09-21T00:00:00",
          "2022-09-22T00:00:00",
          "2022-09-23T00:00:00",
          "2022-09-26T00:00:00",
          "2022-09-27T00:00:00",
          "2022-09-28T00:00:00",
          "2022-09-29T00:00:00",
          "2022-09-30T00:00:00",
          "2022-10-03T00:00:00",
          "2022-10-04T00:00:00",
          "2022-10-05T00:00:00",
          "2022-10-06T00:00:00",
          "2022-10-07T00:00:00",
          "2022-10-10T00:00:00",
          "2022-10-11T00:00:00",
          "2022-10-12T00:00:00",
          "2022-10-13T00:00:00",
          "2022-10-14T00:00:00",
          "2022-10-17T00:00:00",
          "2022-10-18T00:00:00",
          "2022-10-19T00:00:00",
          "2022-10-20T00:00:00",
          "2022-10-21T00:00:00",
          "2022-10-24T00:00:00",
          "2022-10-25T00:00:00",
          "2022-10-26T00:00:00",
          "2022-10-27T00:00:00",
          "2022-10-28T00:00:00",
          "2022-10-31T00:00:00",
          "2022-11-01T00:00:00"
         ]
        }
       ],
       "layout": {
        "template": {
         "data": {
          "bar": [
           {
            "error_x": {
             "color": "#2a3f5f"
            },
            "error_y": {
             "color": "#2a3f5f"
            },
            "marker": {
             "line": {
              "color": "#E5ECF6",
              "width": 0.5
             },
             "pattern": {
              "fillmode": "overlay",
              "size": 10,
              "solidity": 0.2
             }
            },
            "type": "bar"
           }
          ],
          "barpolar": [
           {
            "marker": {
             "line": {
              "color": "#E5ECF6",
              "width": 0.5
             },
             "pattern": {
              "fillmode": "overlay",
              "size": 10,
              "solidity": 0.2
             }
            },
            "type": "barpolar"
           }
          ],
          "carpet": [
           {
            "aaxis": {
             "endlinecolor": "#2a3f5f",
             "gridcolor": "white",
             "linecolor": "white",
             "minorgridcolor": "white",
             "startlinecolor": "#2a3f5f"
            },
            "baxis": {
             "endlinecolor": "#2a3f5f",
             "gridcolor": "white",
             "linecolor": "white",
             "minorgridcolor": "white",
             "startlinecolor": "#2a3f5f"
            },
            "type": "carpet"
           }
          ],
          "choropleth": [
           {
            "colorbar": {
             "outlinewidth": 0,
             "ticks": ""
            },
            "type": "choropleth"
           }
          ],
          "contour": [
           {
            "colorbar": {
             "outlinewidth": 0,
             "ticks": ""
            },
            "colorscale": [
             [
              0,
              "#0d0887"
             ],
             [
              0.1111111111111111,
              "#46039f"
             ],
             [
              0.2222222222222222,
              "#7201a8"
             ],
             [
              0.3333333333333333,
              "#9c179e"
             ],
             [
              0.4444444444444444,
              "#bd3786"
             ],
             [
              0.5555555555555556,
              "#d8576b"
             ],
             [
              0.6666666666666666,
              "#ed7953"
             ],
             [
              0.7777777777777778,
              "#fb9f3a"
             ],
             [
              0.8888888888888888,
              "#fdca26"
             ],
             [
              1,
              "#f0f921"
             ]
            ],
            "type": "contour"
           }
          ],
          "contourcarpet": [
           {
            "colorbar": {
             "outlinewidth": 0,
             "ticks": ""
            },
            "type": "contourcarpet"
           }
          ],
          "heatmap": [
           {
            "colorbar": {
             "outlinewidth": 0,
             "ticks": ""
            },
            "colorscale": [
             [
              0,
              "#0d0887"
             ],
             [
              0.1111111111111111,
              "#46039f"
             ],
             [
              0.2222222222222222,
              "#7201a8"
             ],
             [
              0.3333333333333333,
              "#9c179e"
             ],
             [
              0.4444444444444444,
              "#bd3786"
             ],
             [
              0.5555555555555556,
              "#d8576b"
             ],
             [
              0.6666666666666666,
              "#ed7953"
             ],
             [
              0.7777777777777778,
              "#fb9f3a"
             ],
             [
              0.8888888888888888,
              "#fdca26"
             ],
             [
              1,
              "#f0f921"
             ]
            ],
            "type": "heatmap"
           }
          ],
          "heatmapgl": [
           {
            "colorbar": {
             "outlinewidth": 0,
             "ticks": ""
            },
            "colorscale": [
             [
              0,
              "#0d0887"
             ],
             [
              0.1111111111111111,
              "#46039f"
             ],
             [
              0.2222222222222222,
              "#7201a8"
             ],
             [
              0.3333333333333333,
              "#9c179e"
             ],
             [
              0.4444444444444444,
              "#bd3786"
             ],
             [
              0.5555555555555556,
              "#d8576b"
             ],
             [
              0.6666666666666666,
              "#ed7953"
             ],
             [
              0.7777777777777778,
              "#fb9f3a"
             ],
             [
              0.8888888888888888,
              "#fdca26"
             ],
             [
              1,
              "#f0f921"
             ]
            ],
            "type": "heatmapgl"
           }
          ],
          "histogram": [
           {
            "marker": {
             "pattern": {
              "fillmode": "overlay",
              "size": 10,
              "solidity": 0.2
             }
            },
            "type": "histogram"
           }
          ],
          "histogram2d": [
           {
            "colorbar": {
             "outlinewidth": 0,
             "ticks": ""
            },
            "colorscale": [
             [
              0,
              "#0d0887"
             ],
             [
              0.1111111111111111,
              "#46039f"
             ],
             [
              0.2222222222222222,
              "#7201a8"
             ],
             [
              0.3333333333333333,
              "#9c179e"
             ],
             [
              0.4444444444444444,
              "#bd3786"
             ],
             [
              0.5555555555555556,
              "#d8576b"
             ],
             [
              0.6666666666666666,
              "#ed7953"
             ],
             [
              0.7777777777777778,
              "#fb9f3a"
             ],
             [
              0.8888888888888888,
              "#fdca26"
             ],
             [
              1,
              "#f0f921"
             ]
            ],
            "type": "histogram2d"
           }
          ],
          "histogram2dcontour": [
           {
            "colorbar": {
             "outlinewidth": 0,
             "ticks": ""
            },
            "colorscale": [
             [
              0,
              "#0d0887"
             ],
             [
              0.1111111111111111,
              "#46039f"
             ],
             [
              0.2222222222222222,
              "#7201a8"
             ],
             [
              0.3333333333333333,
              "#9c179e"
             ],
             [
              0.4444444444444444,
              "#bd3786"
             ],
             [
              0.5555555555555556,
              "#d8576b"
             ],
             [
              0.6666666666666666,
              "#ed7953"
             ],
             [
              0.7777777777777778,
              "#fb9f3a"
             ],
             [
              0.8888888888888888,
              "#fdca26"
             ],
             [
              1,
              "#f0f921"
             ]
            ],
            "type": "histogram2dcontour"
           }
          ],
          "mesh3d": [
           {
            "colorbar": {
             "outlinewidth": 0,
             "ticks": ""
            },
            "type": "mesh3d"
           }
          ],
          "parcoords": [
           {
            "line": {
             "colorbar": {
              "outlinewidth": 0,
              "ticks": ""
             }
            },
            "type": "parcoords"
           }
          ],
          "pie": [
           {
            "automargin": true,
            "type": "pie"
           }
          ],
          "scatter": [
           {
            "fillpattern": {
             "fillmode": "overlay",
             "size": 10,
             "solidity": 0.2
            },
            "type": "scatter"
           }
          ],
          "scatter3d": [
           {
            "line": {
             "colorbar": {
              "outlinewidth": 0,
              "ticks": ""
             }
            },
            "marker": {
             "colorbar": {
              "outlinewidth": 0,
              "ticks": ""
             }
            },
            "type": "scatter3d"
           }
          ],
          "scattercarpet": [
           {
            "marker": {
             "colorbar": {
              "outlinewidth": 0,
              "ticks": ""
             }
            },
            "type": "scattercarpet"
           }
          ],
          "scattergeo": [
           {
            "marker": {
             "colorbar": {
              "outlinewidth": 0,
              "ticks": ""
             }
            },
            "type": "scattergeo"
           }
          ],
          "scattergl": [
           {
            "marker": {
             "colorbar": {
              "outlinewidth": 0,
              "ticks": ""
             }
            },
            "type": "scattergl"
           }
          ],
          "scattermapbox": [
           {
            "marker": {
             "colorbar": {
              "outlinewidth": 0,
              "ticks": ""
             }
            },
            "type": "scattermapbox"
           }
          ],
          "scatterpolar": [
           {
            "marker": {
             "colorbar": {
              "outlinewidth": 0,
              "ticks": ""
             }
            },
            "type": "scatterpolar"
           }
          ],
          "scatterpolargl": [
           {
            "marker": {
             "colorbar": {
              "outlinewidth": 0,
              "ticks": ""
             }
            },
            "type": "scatterpolargl"
           }
          ],
          "scatterternary": [
           {
            "marker": {
             "colorbar": {
              "outlinewidth": 0,
              "ticks": ""
             }
            },
            "type": "scatterternary"
           }
          ],
          "surface": [
           {
            "colorbar": {
             "outlinewidth": 0,
             "ticks": ""
            },
            "colorscale": [
             [
              0,
              "#0d0887"
             ],
             [
              0.1111111111111111,
              "#46039f"
             ],
             [
              0.2222222222222222,
              "#7201a8"
             ],
             [
              0.3333333333333333,
              "#9c179e"
             ],
             [
              0.4444444444444444,
              "#bd3786"
             ],
             [
              0.5555555555555556,
              "#d8576b"
             ],
             [
              0.6666666666666666,
              "#ed7953"
             ],
             [
              0.7777777777777778,
              "#fb9f3a"
             ],
             [
              0.8888888888888888,
              "#fdca26"
             ],
             [
              1,
              "#f0f921"
             ]
            ],
            "type": "surface"
           }
          ],
          "table": [
           {
            "cells": {
             "fill": {
              "color": "#EBF0F8"
             },
             "line": {
              "color": "white"
             }
            },
            "header": {
             "fill": {
              "color": "#C8D4E3"
             },
             "line": {
              "color": "white"
             }
            },
            "type": "table"
           }
          ]
         },
         "layout": {
          "annotationdefaults": {
           "arrowcolor": "#2a3f5f",
           "arrowhead": 0,
           "arrowwidth": 1
          },
          "autotypenumbers": "strict",
          "coloraxis": {
           "colorbar": {
            "outlinewidth": 0,
            "ticks": ""
           }
          },
          "colorscale": {
           "diverging": [
            [
             0,
             "#8e0152"
            ],
            [
             0.1,
             "#c51b7d"
            ],
            [
             0.2,
             "#de77ae"
            ],
            [
             0.3,
             "#f1b6da"
            ],
            [
             0.4,
             "#fde0ef"
            ],
            [
             0.5,
             "#f7f7f7"
            ],
            [
             0.6,
             "#e6f5d0"
            ],
            [
             0.7,
             "#b8e186"
            ],
            [
             0.8,
             "#7fbc41"
            ],
            [
             0.9,
             "#4d9221"
            ],
            [
             1,
             "#276419"
            ]
           ],
           "sequential": [
            [
             0,
             "#0d0887"
            ],
            [
             0.1111111111111111,
             "#46039f"
            ],
            [
             0.2222222222222222,
             "#7201a8"
            ],
            [
             0.3333333333333333,
             "#9c179e"
            ],
            [
             0.4444444444444444,
             "#bd3786"
            ],
            [
             0.5555555555555556,
             "#d8576b"
            ],
            [
             0.6666666666666666,
             "#ed7953"
            ],
            [
             0.7777777777777778,
             "#fb9f3a"
            ],
            [
             0.8888888888888888,
             "#fdca26"
            ],
            [
             1,
             "#f0f921"
            ]
           ],
           "sequentialminus": [
            [
             0,
             "#0d0887"
            ],
            [
             0.1111111111111111,
             "#46039f"
            ],
            [
             0.2222222222222222,
             "#7201a8"
            ],
            [
             0.3333333333333333,
             "#9c179e"
            ],
            [
             0.4444444444444444,
             "#bd3786"
            ],
            [
             0.5555555555555556,
             "#d8576b"
            ],
            [
             0.6666666666666666,
             "#ed7953"
            ],
            [
             0.7777777777777778,
             "#fb9f3a"
            ],
            [
             0.8888888888888888,
             "#fdca26"
            ],
            [
             1,
             "#f0f921"
            ]
           ]
          },
          "colorway": [
           "#636efa",
           "#EF553B",
           "#00cc96",
           "#ab63fa",
           "#FFA15A",
           "#19d3f3",
           "#FF6692",
           "#B6E880",
           "#FF97FF",
           "#FECB52"
          ],
          "font": {
           "color": "#2a3f5f"
          },
          "geo": {
           "bgcolor": "white",
           "lakecolor": "white",
           "landcolor": "#E5ECF6",
           "showlakes": true,
           "showland": true,
           "subunitcolor": "white"
          },
          "hoverlabel": {
           "align": "left"
          },
          "hovermode": "closest",
          "mapbox": {
           "style": "light"
          },
          "paper_bgcolor": "white",
          "plot_bgcolor": "#E5ECF6",
          "polar": {
           "angularaxis": {
            "gridcolor": "white",
            "linecolor": "white",
            "ticks": ""
           },
           "bgcolor": "#E5ECF6",
           "radialaxis": {
            "gridcolor": "white",
            "linecolor": "white",
            "ticks": ""
           }
          },
          "scene": {
           "xaxis": {
            "backgroundcolor": "#E5ECF6",
            "gridcolor": "white",
            "gridwidth": 2,
            "linecolor": "white",
            "showbackground": true,
            "ticks": "",
            "zerolinecolor": "white"
           },
           "yaxis": {
            "backgroundcolor": "#E5ECF6",
            "gridcolor": "white",
            "gridwidth": 2,
            "linecolor": "white",
            "showbackground": true,
            "ticks": "",
            "zerolinecolor": "white"
           },
           "zaxis": {
            "backgroundcolor": "#E5ECF6",
            "gridcolor": "white",
            "gridwidth": 2,
            "linecolor": "white",
            "showbackground": true,
            "ticks": "",
            "zerolinecolor": "white"
           }
          },
          "shapedefaults": {
           "line": {
            "color": "#2a3f5f"
           }
          },
          "ternary": {
           "aaxis": {
            "gridcolor": "white",
            "linecolor": "white",
            "ticks": ""
           },
           "baxis": {
            "gridcolor": "white",
            "linecolor": "white",
            "ticks": ""
           },
           "bgcolor": "#E5ECF6",
           "caxis": {
            "gridcolor": "white",
            "linecolor": "white",
            "ticks": ""
           }
          },
          "title": {
           "x": 0.05
          },
          "xaxis": {
           "automargin": true,
           "gridcolor": "white",
           "linecolor": "white",
           "ticks": "",
           "title": {
            "standoff": 15
           },
           "zerolinecolor": "white",
           "zerolinewidth": 2
          },
          "yaxis": {
           "automargin": true,
           "gridcolor": "white",
           "linecolor": "white",
           "ticks": "",
           "title": {
            "standoff": 15
           },
           "zerolinecolor": "white",
           "zerolinewidth": 2
          }
         }
        },
        "title": {
         "text": "Google Stock Price Analysis"
        },
        "xaxis": {
         "rangeslider": {
          "visible": false
         }
        }
       }
      }
     },
     "metadata": {},
     "output_type": "display_data"
    }
   ],
   "source": [
    "figure = go.Figure(data=[go.Candlestick(x=data[\"Date\"],\n",
    "                                        open=data[\"Open\"], high=data[\"High\"],\n",
    "                                        low=data[\"Low\"], close=data[\"Close\"])])\n",
    "figure.update_layout(title = \"Google Stock Price Analysis\", xaxis_rangeslider_visible=False)\n",
    "figure.show()"
   ]
  },
  {
   "cell_type": "code",
   "execution_count": 57,
   "metadata": {},
   "outputs": [
    {
     "data": {
      "text/plain": [
       "<BarContainer object of 252 artists>"
      ]
     },
     "execution_count": 57,
     "metadata": {},
     "output_type": "execute_result"
    },
    {
     "data": {
      "image/png": "[encoded data removed]",
      "text/plain": [
       "<Figure size 640x480 with 1 Axes>"
      ]
     },
     "metadata": {},
     "output_type": "display_data"
    }
   ],
   "source": [
    "plt.bar(x=data[\"Date\"], height=data[\"Close\"]\n",
    ")"
   ]
  },
  {
   "cell_type": "code",
   "execution_count": 58,
   "metadata": {},
   "outputs": [
    {
     "data": {
      "text/html": [
       "<div>\n",
       "<style scoped>\n",
       "    .dataframe tbody tr th:only-of-type {\n",
       "        vertical-align: middle;\n",
       "    }\n",
       "\n",
       "    .dataframe tbody tr th {\n",
       "        vertical-align: top;\n",
       "    }\n",
       "\n",
       "    .dataframe thead th {\n",
       "        text-align: right;\n",
       "    }\n",
       "</style>\n",
       "<table border=\"1\" class=\"dataframe\">\n",
       "  <thead>\n",
       "    <tr style=\"text-align: right;\">\n",
       "      <th></th>\n",
       "      <th>Open</th>\n",
       "      <th>High</th>\n",
       "      <th>Low</th>\n",
       "      <th>Close</th>\n",
       "      <th>Volume</th>\n",
       "      <th>Dividends</th>\n",
       "      <th>Stock Splits</th>\n",
       "    </tr>\n",
       "    <tr>\n",
       "      <th>Date</th>\n",
       "      <th></th>\n",
       "      <th></th>\n",
       "      <th></th>\n",
       "      <th></th>\n",
       "      <th></th>\n",
       "      <th></th>\n",
       "      <th></th>\n",
       "    </tr>\n",
       "  </thead>\n",
       "  <tbody>\n",
       "    <tr>\n",
       "      <th>2021-11-02 00:00:00-04:00</th>\n",
       "      <td>331.380005</td>\n",
       "      <td>334.790009</td>\n",
       "      <td>323.799988</td>\n",
       "      <td>328.079987</td>\n",
       "      <td>28353000</td>\n",
       "      <td>0</td>\n",
       "      <td>0</td>\n",
       "    </tr>\n",
       "    <tr>\n",
       "      <th>2021-11-03 00:00:00-04:00</th>\n",
       "      <td>327.489990</td>\n",
       "      <td>332.149994</td>\n",
       "      <td>323.200012</td>\n",
       "      <td>331.619995</td>\n",
       "      <td>20786500</td>\n",
       "      <td>0</td>\n",
       "      <td>0</td>\n",
       "    </tr>\n",
       "    <tr>\n",
       "      <th>2021-11-04 00:00:00-04:00</th>\n",
       "      <td>334.010010</td>\n",
       "      <td>337.269989</td>\n",
       "      <td>332.649994</td>\n",
       "      <td>335.850006</td>\n",
       "      <td>22495300</td>\n",
       "      <td>0</td>\n",
       "      <td>0</td>\n",
       "    </tr>\n",
       "    <tr>\n",
       "      <th>2021-11-05 00:00:00-04:00</th>\n",
       "      <td>340.309998</td>\n",
       "      <td>346.790009</td>\n",
       "      <td>339.640015</td>\n",
       "      <td>341.130005</td>\n",
       "      <td>26872800</td>\n",
       "      <td>0</td>\n",
       "      <td>0</td>\n",
       "    </tr>\n",
       "    <tr>\n",
       "      <th>2021-11-08 00:00:00-05:00</th>\n",
       "      <td>344.420013</td>\n",
       "      <td>344.790009</td>\n",
       "      <td>338.339996</td>\n",
       "      <td>338.619995</td>\n",
       "      <td>18342500</td>\n",
       "      <td>0</td>\n",
       "      <td>0</td>\n",
       "    </tr>\n",
       "    <tr>\n",
       "      <th>...</th>\n",
       "      <td>...</td>\n",
       "      <td>...</td>\n",
       "      <td>...</td>\n",
       "      <td>...</td>\n",
       "      <td>...</td>\n",
       "      <td>...</td>\n",
       "      <td>...</td>\n",
       "    </tr>\n",
       "    <tr>\n",
       "      <th>2022-10-26 00:00:00-04:00</th>\n",
       "      <td>131.679993</td>\n",
       "      <td>135.550003</td>\n",
       "      <td>128.529999</td>\n",
       "      <td>129.820007</td>\n",
       "      <td>82791500</td>\n",
       "      <td>0</td>\n",
       "      <td>0</td>\n",
       "    </tr>\n",
       "    <tr>\n",
       "      <th>2022-10-27 00:00:00-04:00</th>\n",
       "      <td>97.980003</td>\n",
       "      <td>102.500000</td>\n",
       "      <td>96.379997</td>\n",
       "      <td>97.940002</td>\n",
       "      <td>232316600</td>\n",
       "      <td>0</td>\n",
       "      <td>0</td>\n",
       "    </tr>\n",
       "    <tr>\n",
       "      <th>2022-10-28 00:00:00-04:00</th>\n",
       "      <td>99.580002</td>\n",
       "      <td>100.849998</td>\n",
       "      <td>97.510002</td>\n",
       "      <td>99.199997</td>\n",
       "      <td>95928300</td>\n",
       "      <td>0</td>\n",
       "      <td>0</td>\n",
       "    </tr>\n",
       "    <tr>\n",
       "      <th>2022-10-31 00:00:00-04:00</th>\n",
       "      <td>98.220001</td>\n",
       "      <td>99.320000</td>\n",
       "      <td>92.599998</td>\n",
       "      <td>93.160004</td>\n",
       "      <td>121361400</td>\n",
       "      <td>0</td>\n",
       "      <td>0</td>\n",
       "    </tr>\n",
       "    <tr>\n",
       "      <th>2022-11-01 00:00:00-04:00</th>\n",
       "      <td>94.330002</td>\n",
       "      <td>97.489998</td>\n",
       "      <td>93.550003</td>\n",
       "      <td>95.199997</td>\n",
       "      <td>110064300</td>\n",
       "      <td>0</td>\n",
       "      <td>0</td>\n",
       "    </tr>\n",
       "  </tbody>\n",
       "</table>\n",
       "<p>252 rows × 7 columns</p>\n",
       "</div>"
      ],
      "text/plain": [
       "                                 Open        High         Low       Close  \\\n",
       "Date                                                                        \n",
       "2021-11-02 00:00:00-04:00  331.380005  334.790009  323.799988  328.079987   \n",
       "2021-11-03 00:00:00-04:00  327.489990  332.149994  323.200012  331.619995   \n",
       "2021-11-04 00:00:00-04:00  334.010010  337.269989  332.649994  335.850006   \n",
       "2021-11-05 00:00:00-04:00  340.309998  346.790009  339.640015  341.130005   \n",
       "2021-11-08 00:00:00-05:00  344.420013  344.790009  338.339996  338.619995   \n",
       "...                               ...         ...         ...         ...   \n",
       "2022-10-26 00:00:00-04:00  131.679993  135.550003  128.529999  129.820007   \n",
       "2022-10-27 00:00:00-04:00   97.980003  102.500000   96.379997   97.940002   \n",
       "2022-10-28 00:00:00-04:00   99.580002  100.849998   97.510002   99.199997   \n",
       "2022-10-31 00:00:00-04:00   98.220001   99.320000   92.599998   93.160004   \n",
       "2022-11-01 00:00:00-04:00   94.330002   97.489998   93.550003   95.199997   \n",
       "\n",
       "                              Volume  Dividends  Stock Splits  \n",
       "Date                                                           \n",
       "2021-11-02 00:00:00-04:00   28353000          0             0  \n",
       "2021-11-03 00:00:00-04:00   20786500          0             0  \n",
       "2021-11-04 00:00:00-04:00   22495300          0             0  \n",
       "2021-11-05 00:00:00-04:00   26872800          0             0  \n",
       "2021-11-08 00:00:00-05:00   18342500          0             0  \n",
       "...                              ...        ...           ...  \n",
       "2022-10-26 00:00:00-04:00   82791500          0             0  \n",
       "2022-10-27 00:00:00-04:00  232316600          0             0  \n",
       "2022-10-28 00:00:00-04:00   95928300          0             0  \n",
       "2022-10-31 00:00:00-04:00  121361400          0             0  \n",
       "2022-11-01 00:00:00-04:00  110064300          0             0  \n",
       "\n",
       "[252 rows x 7 columns]"
      ]
     },
     "execution_count": 58,
     "metadata": {},
     "output_type": "execute_result"
    }
   ],
   "source": [
    "meta = yf.Ticker(\"META\")\n",
    "df = meta.history(start=start_date)\n",
    "df\n",
    "# meta.actions"
   ]
  },
  {
   "cell_type": "code",
   "execution_count": 59,
   "metadata": {},
   "outputs": [
    {
     "data": {
      "image/png": "[encoded data removed]",
      "text/plain": [
       "<Figure size 800x800 with 1 Axes>"
      ]
     },
     "metadata": {},
     "output_type": "display_data"
    }
   ],
   "source": [
    "plt.style.use('fivethirtyeight')\n",
    "df['MA'] = ta.SMA(df['Close'],timeperiod=5)\n",
    "df[['Close','MA']].plot(figsize=(8,8))\n",
    "plt.show()"
   ]
  },
  {
   "cell_type": "code",
   "execution_count": 60,
   "metadata": {},
   "outputs": [
    {
     "data": {
      "text/plain": [
       "<AxesSubplot: xlabel='Date'>"
      ]
     },
     "execution_count": 60,
     "metadata": {},
     "output_type": "execute_result"
    },
    {
     "data": {
      "image/png": "[encoded data removed]",
      "text/plain": [
       "<Figure size 800x800 with 1 Axes>"
      ]
     },
     "metadata": {},
     "output_type": "display_data"
    }
   ],
   "source": [
    "plt.style.use('fivethirtyeight')\n",
    "df['ema'] = ta.EMA(df['Close'],timeperiod=5)\n",
    "df[['Close','MA','ema']].plot(figsize=(8,8))"
   ]
  },
  {
   "cell_type": "markdown",
   "metadata": {},
   "source": [
    "What is Relative Strength Index(RSI)\n",
    "RSI is a momentum indicator that helps to learn whether a certain share is overbought or oversold. Its value lies between 0-100. If it is under 30, it means it is oversold and has a chance to buy it. If the value lies above 70, it means it is overbought and it is a good chance to dump your stock. Let’s calculate and chart the RSI of the FB/Meta stock. Let’s check the RSI of FB."
   ]
  },
  {
   "cell_type": "code",
   "execution_count": 61,
   "metadata": {},
   "outputs": [
    {
     "data": {
      "text/html": [
       "<div>\n",
       "<style scoped>\n",
       "    .dataframe tbody tr th:only-of-type {\n",
       "        vertical-align: middle;\n",
       "    }\n",
       "\n",
       "    .dataframe tbody tr th {\n",
       "        vertical-align: top;\n",
       "    }\n",
       "\n",
       "    .dataframe thead th {\n",
       "        text-align: right;\n",
       "    }\n",
       "</style>\n",
       "<table border=\"1\" class=\"dataframe\">\n",
       "  <thead>\n",
       "    <tr style=\"text-align: right;\">\n",
       "      <th></th>\n",
       "      <th>Open</th>\n",
       "      <th>High</th>\n",
       "      <th>Low</th>\n",
       "      <th>Close</th>\n",
       "      <th>Volume</th>\n",
       "      <th>Dividends</th>\n",
       "      <th>Stock Splits</th>\n",
       "      <th>MA</th>\n",
       "      <th>ema</th>\n",
       "      <th>RSI</th>\n",
       "    </tr>\n",
       "    <tr>\n",
       "      <th>Date</th>\n",
       "      <th></th>\n",
       "      <th></th>\n",
       "      <th></th>\n",
       "      <th></th>\n",
       "      <th></th>\n",
       "      <th></th>\n",
       "      <th></th>\n",
       "      <th></th>\n",
       "      <th></th>\n",
       "      <th></th>\n",
       "    </tr>\n",
       "  </thead>\n",
       "  <tbody>\n",
       "    <tr>\n",
       "      <th>2022-10-19 00:00:00-04:00</th>\n",
       "      <td>132.889999</td>\n",
       "      <td>137.000000</td>\n",
       "      <td>132.220001</td>\n",
       "      <td>133.229996</td>\n",
       "      <td>30691000</td>\n",
       "      <td>0</td>\n",
       "      <td>0</td>\n",
       "      <td>131.423997</td>\n",
       "      <td>132.194760</td>\n",
       "      <td>41.833900</td>\n",
       "    </tr>\n",
       "    <tr>\n",
       "      <th>2022-10-20 00:00:00-04:00</th>\n",
       "      <td>132.929993</td>\n",
       "      <td>136.770004</td>\n",
       "      <td>131.309998</td>\n",
       "      <td>131.529999</td>\n",
       "      <td>26356300</td>\n",
       "      <td>0</td>\n",
       "      <td>0</td>\n",
       "      <td>131.671999</td>\n",
       "      <td>131.973173</td>\n",
       "      <td>40.069644</td>\n",
       "    </tr>\n",
       "    <tr>\n",
       "      <th>2022-10-21 00:00:00-04:00</th>\n",
       "      <td>126.309998</td>\n",
       "      <td>130.119995</td>\n",
       "      <td>125.440002</td>\n",
       "      <td>130.009995</td>\n",
       "      <td>46195500</td>\n",
       "      <td>0</td>\n",
       "      <td>0</td>\n",
       "      <td>132.321997</td>\n",
       "      <td>131.318780</td>\n",
       "      <td>38.505983</td>\n",
       "    </tr>\n",
       "    <tr>\n",
       "      <th>2022-10-24 00:00:00-04:00</th>\n",
       "      <td>127.250000</td>\n",
       "      <td>133.479996</td>\n",
       "      <td>124.570000</td>\n",
       "      <td>129.720001</td>\n",
       "      <td>63563400</td>\n",
       "      <td>0</td>\n",
       "      <td>0</td>\n",
       "      <td>131.457999</td>\n",
       "      <td>130.785854</td>\n",
       "      <td>38.199705</td>\n",
       "    </tr>\n",
       "    <tr>\n",
       "      <th>2022-10-25 00:00:00-04:00</th>\n",
       "      <td>130.880005</td>\n",
       "      <td>138.350006</td>\n",
       "      <td>130.589996</td>\n",
       "      <td>137.509995</td>\n",
       "      <td>38433200</td>\n",
       "      <td>0</td>\n",
       "      <td>0</td>\n",
       "      <td>132.399997</td>\n",
       "      <td>133.027234</td>\n",
       "      <td>49.760030</td>\n",
       "    </tr>\n",
       "    <tr>\n",
       "      <th>2022-10-26 00:00:00-04:00</th>\n",
       "      <td>131.679993</td>\n",
       "      <td>135.550003</td>\n",
       "      <td>128.529999</td>\n",
       "      <td>129.820007</td>\n",
       "      <td>82791500</td>\n",
       "      <td>0</td>\n",
       "      <td>0</td>\n",
       "      <td>131.717999</td>\n",
       "      <td>131.958159</td>\n",
       "      <td>41.506039</td>\n",
       "    </tr>\n",
       "    <tr>\n",
       "      <th>2022-10-27 00:00:00-04:00</th>\n",
       "      <td>97.980003</td>\n",
       "      <td>102.500000</td>\n",
       "      <td>96.379997</td>\n",
       "      <td>97.940002</td>\n",
       "      <td>232316600</td>\n",
       "      <td>0</td>\n",
       "      <td>0</td>\n",
       "      <td>125.000000</td>\n",
       "      <td>120.618773</td>\n",
       "      <td>23.846358</td>\n",
       "    </tr>\n",
       "    <tr>\n",
       "      <th>2022-10-28 00:00:00-04:00</th>\n",
       "      <td>99.580002</td>\n",
       "      <td>100.849998</td>\n",
       "      <td>97.510002</td>\n",
       "      <td>99.199997</td>\n",
       "      <td>95928300</td>\n",
       "      <td>0</td>\n",
       "      <td>0</td>\n",
       "      <td>118.838000</td>\n",
       "      <td>113.479181</td>\n",
       "      <td>25.200932</td>\n",
       "    </tr>\n",
       "    <tr>\n",
       "      <th>2022-10-31 00:00:00-04:00</th>\n",
       "      <td>98.220001</td>\n",
       "      <td>99.320000</td>\n",
       "      <td>92.599998</td>\n",
       "      <td>93.160004</td>\n",
       "      <td>121361400</td>\n",
       "      <td>0</td>\n",
       "      <td>0</td>\n",
       "      <td>111.526001</td>\n",
       "      <td>106.706122</td>\n",
       "      <td>23.081459</td>\n",
       "    </tr>\n",
       "    <tr>\n",
       "      <th>2022-11-01 00:00:00-04:00</th>\n",
       "      <td>94.330002</td>\n",
       "      <td>97.489998</td>\n",
       "      <td>93.550003</td>\n",
       "      <td>95.199997</td>\n",
       "      <td>110064300</td>\n",
       "      <td>0</td>\n",
       "      <td>0</td>\n",
       "      <td>103.064001</td>\n",
       "      <td>102.870747</td>\n",
       "      <td>25.364602</td>\n",
       "    </tr>\n",
       "  </tbody>\n",
       "</table>\n",
       "</div>"
      ],
      "text/plain": [
       "                                 Open        High         Low       Close  \\\n",
       "Date                                                                        \n",
       "2022-10-19 00:00:00-04:00  132.889999  137.000000  132.220001  133.229996   \n",
       "2022-10-20 00:00:00-04:00  132.929993  136.770004  131.309998  131.529999   \n",
       "2022-10-21 00:00:00-04:00  126.309998  130.119995  125.440002  130.009995   \n",
       "2022-10-24 00:00:00-04:00  127.250000  133.479996  124.570000  129.720001   \n",
       "2022-10-25 00:00:00-04:00  130.880005  138.350006  130.589996  137.509995   \n",
       "2022-10-26 00:00:00-04:00  131.679993  135.550003  128.529999  129.820007   \n",
       "2022-10-27 00:00:00-04:00   97.980003  102.500000   96.379997   97.940002   \n",
       "2022-10-28 00:00:00-04:00   99.580002  100.849998   97.510002   99.199997   \n",
       "2022-10-31 00:00:00-04:00   98.220001   99.320000   92.599998   93.160004   \n",
       "2022-11-01 00:00:00-04:00   94.330002   97.489998   93.550003   95.199997   \n",
       "\n",
       "                              Volume  Dividends  Stock Splits          MA  \\\n",
       "Date                                                                        \n",
       "2022-10-19 00:00:00-04:00   30691000          0             0  131.423997   \n",
       "2022-10-20 00:00:00-04:00   26356300          0             0  131.671999   \n",
       "2022-10-21 00:00:00-04:00   46195500          0             0  132.321997   \n",
       "2022-10-24 00:00:00-04:00   63563400          0             0  131.457999   \n",
       "2022-10-25 00:00:00-04:00   38433200          0             0  132.399997   \n",
       "2022-10-26 00:00:00-04:00   82791500          0             0  131.717999   \n",
       "2022-10-27 00:00:00-04:00  232316600          0             0  125.000000   \n",
       "2022-10-28 00:00:00-04:00   95928300          0             0  118.838000   \n",
       "2022-10-31 00:00:00-04:00  121361400          0             0  111.526001   \n",
       "2022-11-01 00:00:00-04:00  110064300          0             0  103.064001   \n",
       "\n",
       "                                  ema        RSI  \n",
       "Date                                              \n",
       "2022-10-19 00:00:00-04:00  132.194760  41.833900  \n",
       "2022-10-20 00:00:00-04:00  131.973173  40.069644  \n",
       "2022-10-21 00:00:00-04:00  131.318780  38.505983  \n",
       "2022-10-24 00:00:00-04:00  130.785854  38.199705  \n",
       "2022-10-25 00:00:00-04:00  133.027234  49.760030  \n",
       "2022-10-26 00:00:00-04:00  131.958159  41.506039  \n",
       "2022-10-27 00:00:00-04:00  120.618773  23.846358  \n",
       "2022-10-28 00:00:00-04:00  113.479181  25.200932  \n",
       "2022-10-31 00:00:00-04:00  106.706122  23.081459  \n",
       "2022-11-01 00:00:00-04:00  102.870747  25.364602  "
      ]
     },
     "execution_count": 61,
     "metadata": {},
     "output_type": "execute_result"
    },
    {
     "data": {
      "image/png": "[encoded data removed]",
      "text/plain": [
       "<Figure size 800x800 with 1 Axes>"
      ]
     },
     "metadata": {},
     "output_type": "display_data"
    }
   ],
   "source": [
    "df['RSI'] = ta.RSI(df['Close'],14)\n",
    "df['RSI'].plot(figsize=(8,8),marker='o')\n",
    "df.tail(10)"
   ]
  },
  {
   "cell_type": "code",
   "execution_count": 62,
   "metadata": {},
   "outputs": [
    {
     "name": "stdout",
     "output_type": "stream",
     "text": [
      "RSI (first 10 elements)\n",
      " Date\n",
      "2021-11-22 00:00:00-05:00    59.761462\n",
      "2021-11-23 00:00:00-05:00    56.318216\n",
      "2021-11-24 00:00:00-05:00    58.902178\n",
      "2021-11-26 00:00:00-05:00    51.998827\n",
      "2021-11-29 00:00:00-05:00    55.474087\n",
      "2021-11-30 00:00:00-05:00    45.639442\n",
      "2021-12-01 00:00:00-05:00    38.191983\n",
      "2021-12-02 00:00:00-05:00    38.090567\n",
      "2021-12-03 00:00:00-05:00    36.334005\n",
      "2021-12-06 00:00:00-05:00    44.844663\n",
      "dtype: float64\n"
     ]
    }
   ],
   "source": [
    "rsi = ta.RSI(df[\"Close\"], timeperiod=14)\n",
    "print(\"RSI (first 10 elements)\\n\", rsi[14:24])"
   ]
  },
  {
   "cell_type": "code",
   "execution_count": 63,
   "metadata": {},
   "outputs": [],
   "source": [
    "\n",
    "def bbp(price):\n",
    "    up, mid, low = ta.BBANDS(df[\"close\"], timeperiod=20, nbdevup=2, nbdevdn=2, matype=0)\n",
    "    bbp = (price['AdjClose'] - low) / (up - low)\n",
    "    return bbp"
   ]
  },
  {
   "cell_type": "code",
   "execution_count": 64,
   "metadata": {},
   "outputs": [
    {
     "ename": "NameError",
     "evalue": "name 'price' is not defined",
     "output_type": "error",
     "traceback": [
      "\u001b[1;31m---------------------------------------------------------------------------\u001b[0m",
      "\u001b[1;31mNameError\u001b[0m                                 Traceback (most recent call last)",
      "Cell \u001b[1;32mIn [64], line 1\u001b[0m\n\u001b[1;32m----> 1\u001b[0m holdings \u001b[39m=\u001b[39m pd\u001b[39m.\u001b[39mDataFrame(index\u001b[39m=\u001b[39mprice\u001b[39m.\u001b[39mindex, data\u001b[39m=\u001b[39m{\u001b[39m'\u001b[39m\u001b[39mHoldings\u001b[39m\u001b[39m'\u001b[39m: np\u001b[39m.\u001b[39marray([np\u001b[39m.\u001b[39mnan] \u001b[39m*\u001b[39m index\u001b[39m.\u001b[39mshape[\u001b[39m0\u001b[39m])})\n\u001b[0;32m      2\u001b[0m holdings\u001b[39m.\u001b[39mloc[((price[\u001b[39m'\u001b[39m\u001b[39mRSI\u001b[39m\u001b[39m'\u001b[39m] \u001b[39m<\u001b[39m \u001b[39m30\u001b[39m) \u001b[39m&\u001b[39m (price[\u001b[39m'\u001b[39m\u001b[39mBBP\u001b[39m\u001b[39m'\u001b[39m] \u001b[39m<\u001b[39m \u001b[39m0\u001b[39m)), \u001b[39m'\u001b[39m\u001b[39mHoldings\u001b[39m\u001b[39m'\u001b[39m] \u001b[39m=\u001b[39m max_holding\n\u001b[0;32m      3\u001b[0m holdings\u001b[39m.\u001b[39mloc[((price[\u001b[39m'\u001b[39m\u001b[39mRSI\u001b[39m\u001b[39m'\u001b[39m] \u001b[39m>\u001b[39m \u001b[39m70\u001b[39m) \u001b[39m&\u001b[39m (price[\u001b[39m'\u001b[39m\u001b[39mBBP\u001b[39m\u001b[39m'\u001b[39m] \u001b[39m>\u001b[39m \u001b[39m1\u001b[39m)), \u001b[39m'\u001b[39m\u001b[39mHoldings\u001b[39m\u001b[39m'\u001b[39m] \u001b[39m=\u001b[39m \u001b[39m0\u001b[39m\n",
      "\u001b[1;31mNameError\u001b[0m: name 'price' is not defined"
     ]
    }
   ],
   "source": [
    "holdings = pd.DataFrame(index=price.index, data={'Holdings': np.array([np.nan] * index.shape[0])})\n",
    "holdings.loc[((price['RSI'] < 30) & (price['BBP'] < 0)), 'Holdings'] = max_holding\n",
    "holdings.loc[((price['RSI'] > 70) & (price['BBP'] > 1)), 'Holdings'] = 0\n",
    "holdings.ffill(inplace=True)\n",
    "holdings.fillna(0, inplace=True)"
   ]
  },
  {
   "cell_type": "code",
   "execution_count": null,
   "metadata": {},
   "outputs": [],
   "source": [
    "fig, (ax0, ax1, ax2) = plt.subplots(3, 1, sharex=True, figsize=(12, 8))\n",
    "ax0.plot(index, price['AdjClose'], label='AdjClose')\n",
    "ax0.set_xlabel('Date')\n",
    "ax0.set_ylabel('AdjClose')\n",
    "ax0.grid()\n",
    "for day, holding in holdings.iterrows():\n",
    "    order = holding['Order']\n",
    "    if order > 0:\n",
    "        ax0.scatter(x=day, y=price.loc[day, 'AdjClose'], color='green')\n",
    "    elif order < 0:\n",
    "        ax0.scatter(x=day, y=price.loc[day, 'AdjClose'], color='red')\n",
    "\n",
    "ax1.plot(index, price['RSI'], label='RSI')\n",
    "ax1.fill_between(index, y1=30, y2=70, color='#adccff', alpha='0.3')\n",
    "ax1.set_xlabel('Date')\n",
    "ax1.set_ylabel('RSI')\n",
    "ax1.grid()\n",
    "\n",
    "ax2.plot(index, price['BB_up'], label='BB_up')\n",
    "ax2.plot(index, price['AdjClose'], label='AdjClose')\n",
    "ax2.plot(index, price['BB_low'], label='BB_low')\n",
    "ax2.fill_between(index, y1=price['BB_low'], y2=price['BB_up'], color='#adccff', alpha='0.3')\n",
    "ax2.set_xlabel('Date')\n",
    "ax2.set_ylabel('Bollinger Bands')\n",
    "ax2.grid()\n",
    "\n",
    "fig.tight_layout()\n",
    "plt.show()"
   ]
  }
 ],
 "metadata": {
  "kernelspec": {
   "display_name": "Python 3 (ipykernel)",
   "language": "python",
   "name": "python3"
  },
  "language_info": {
   "codemirror_mode": {
    "name": "ipython",
    "version": 3
   },
   "file_extension": ".py",
   "mimetype": "text/x-python",
   "name": "python",
   "nbconvert_exporter": "python",
   "pygments_lexer": "ipython3",
   "version": "3.10.6"
  },
  "vscode": {
   "interpreter": {
    "hash": "019df482aabf37ac442d8ef52b675116fa66c8e6eb06e35c35e63214d163b839"
   }
  }
 },
 "nbformat": 4,
 "nbformat_minor": 2
}
